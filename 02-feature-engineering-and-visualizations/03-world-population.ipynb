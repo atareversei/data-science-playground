{
 "cells": [
  {
   "cell_type": "code",
   "id": "initial_id",
   "metadata": {
    "collapsed": true,
    "ExecuteTime": {
     "end_time": "2025-10-16T10:34:19.298280Z",
     "start_time": "2025-10-16T10:34:19.233103Z"
    }
   },
   "source": [
    "import pandas\n",
    "import plotly.express as px\n",
    "import pandas as pd"
   ],
   "outputs": [],
   "execution_count": 1
  },
  {
   "metadata": {
    "ExecuteTime": {
     "end_time": "2025-10-16T10:34:44.355646Z",
     "start_time": "2025-10-16T10:34:44.334113Z"
    }
   },
   "cell_type": "code",
   "source": [
    "df = pd.read_csv('../data/world_population.csv')\n",
    "df.sample(5)"
   ],
   "id": "c9aa46042863fc28",
   "outputs": [
    {
     "data": {
      "text/plain": [
       "     Rank CCA3 Country/Territory            Capital      Continent  \\\n",
       "221     3  USA     United States   Washington, D.C.  North America   \n",
       "183    72  SEN           Senegal              Dakar         Africa   \n",
       "64    231  FLK  Falkland Islands            Stanley  South America   \n",
       "119   167  MAC             Macau  Concelho de Macau           Asia   \n",
       "113   147  LSO           Lesotho             Maseru         Africa   \n",
       "\n",
       "     2022 Population  2020 Population  2015 Population  2010 Population  \\\n",
       "221        338289857        335942003        324607776        311182845   \n",
       "183         17316449         16436119         14356181         12530121   \n",
       "64              3780             3747             3408             3187   \n",
       "119           695168           676283           615239           557297   \n",
       "113          2305825          2254100          2118521          2022747   \n",
       "\n",
       "     2000 Population  1990 Population  1980 Population  1970 Population  \\\n",
       "221        282398554        248083732        223140018        200328340   \n",
       "183          9704287          7536001          5703869          4367744   \n",
       "64              3080             2332             2240             2274   \n",
       "119           431896           350227           245332           247284   \n",
       "113          1998630          1798997          1407672          1023481   \n",
       "\n",
       "     Area (km²)  Density (per km²)  Growth Rate  World Population Percentage  \n",
       "221     9372610            36.0935       1.0038                         4.24  \n",
       "183      196722            88.0250       1.0261                         0.22  \n",
       "64        12173             0.3105       1.0043                         0.00  \n",
       "119          30         23172.2667       1.0125                         0.01  \n",
       "113       30355            75.9620       1.0107                         0.03  "
      ],
      "text/html": [
       "<div>\n",
       "<style scoped>\n",
       "    .dataframe tbody tr th:only-of-type {\n",
       "        vertical-align: middle;\n",
       "    }\n",
       "\n",
       "    .dataframe tbody tr th {\n",
       "        vertical-align: top;\n",
       "    }\n",
       "\n",
       "    .dataframe thead th {\n",
       "        text-align: right;\n",
       "    }\n",
       "</style>\n",
       "<table border=\"1\" class=\"dataframe\">\n",
       "  <thead>\n",
       "    <tr style=\"text-align: right;\">\n",
       "      <th></th>\n",
       "      <th>Rank</th>\n",
       "      <th>CCA3</th>\n",
       "      <th>Country/Territory</th>\n",
       "      <th>Capital</th>\n",
       "      <th>Continent</th>\n",
       "      <th>2022 Population</th>\n",
       "      <th>2020 Population</th>\n",
       "      <th>2015 Population</th>\n",
       "      <th>2010 Population</th>\n",
       "      <th>2000 Population</th>\n",
       "      <th>1990 Population</th>\n",
       "      <th>1980 Population</th>\n",
       "      <th>1970 Population</th>\n",
       "      <th>Area (km²)</th>\n",
       "      <th>Density (per km²)</th>\n",
       "      <th>Growth Rate</th>\n",
       "      <th>World Population Percentage</th>\n",
       "    </tr>\n",
       "  </thead>\n",
       "  <tbody>\n",
       "    <tr>\n",
       "      <th>221</th>\n",
       "      <td>3</td>\n",
       "      <td>USA</td>\n",
       "      <td>United States</td>\n",
       "      <td>Washington, D.C.</td>\n",
       "      <td>North America</td>\n",
       "      <td>338289857</td>\n",
       "      <td>335942003</td>\n",
       "      <td>324607776</td>\n",
       "      <td>311182845</td>\n",
       "      <td>282398554</td>\n",
       "      <td>248083732</td>\n",
       "      <td>223140018</td>\n",
       "      <td>200328340</td>\n",
       "      <td>9372610</td>\n",
       "      <td>36.0935</td>\n",
       "      <td>1.0038</td>\n",
       "      <td>4.24</td>\n",
       "    </tr>\n",
       "    <tr>\n",
       "      <th>183</th>\n",
       "      <td>72</td>\n",
       "      <td>SEN</td>\n",
       "      <td>Senegal</td>\n",
       "      <td>Dakar</td>\n",
       "      <td>Africa</td>\n",
       "      <td>17316449</td>\n",
       "      <td>16436119</td>\n",
       "      <td>14356181</td>\n",
       "      <td>12530121</td>\n",
       "      <td>9704287</td>\n",
       "      <td>7536001</td>\n",
       "      <td>5703869</td>\n",
       "      <td>4367744</td>\n",
       "      <td>196722</td>\n",
       "      <td>88.0250</td>\n",
       "      <td>1.0261</td>\n",
       "      <td>0.22</td>\n",
       "    </tr>\n",
       "    <tr>\n",
       "      <th>64</th>\n",
       "      <td>231</td>\n",
       "      <td>FLK</td>\n",
       "      <td>Falkland Islands</td>\n",
       "      <td>Stanley</td>\n",
       "      <td>South America</td>\n",
       "      <td>3780</td>\n",
       "      <td>3747</td>\n",
       "      <td>3408</td>\n",
       "      <td>3187</td>\n",
       "      <td>3080</td>\n",
       "      <td>2332</td>\n",
       "      <td>2240</td>\n",
       "      <td>2274</td>\n",
       "      <td>12173</td>\n",
       "      <td>0.3105</td>\n",
       "      <td>1.0043</td>\n",
       "      <td>0.00</td>\n",
       "    </tr>\n",
       "    <tr>\n",
       "      <th>119</th>\n",
       "      <td>167</td>\n",
       "      <td>MAC</td>\n",
       "      <td>Macau</td>\n",
       "      <td>Concelho de Macau</td>\n",
       "      <td>Asia</td>\n",
       "      <td>695168</td>\n",
       "      <td>676283</td>\n",
       "      <td>615239</td>\n",
       "      <td>557297</td>\n",
       "      <td>431896</td>\n",
       "      <td>350227</td>\n",
       "      <td>245332</td>\n",
       "      <td>247284</td>\n",
       "      <td>30</td>\n",
       "      <td>23172.2667</td>\n",
       "      <td>1.0125</td>\n",
       "      <td>0.01</td>\n",
       "    </tr>\n",
       "    <tr>\n",
       "      <th>113</th>\n",
       "      <td>147</td>\n",
       "      <td>LSO</td>\n",
       "      <td>Lesotho</td>\n",
       "      <td>Maseru</td>\n",
       "      <td>Africa</td>\n",
       "      <td>2305825</td>\n",
       "      <td>2254100</td>\n",
       "      <td>2118521</td>\n",
       "      <td>2022747</td>\n",
       "      <td>1998630</td>\n",
       "      <td>1798997</td>\n",
       "      <td>1407672</td>\n",
       "      <td>1023481</td>\n",
       "      <td>30355</td>\n",
       "      <td>75.9620</td>\n",
       "      <td>1.0107</td>\n",
       "      <td>0.03</td>\n",
       "    </tr>\n",
       "  </tbody>\n",
       "</table>\n",
       "</div>"
      ]
     },
     "execution_count": 3,
     "metadata": {},
     "output_type": "execute_result"
    }
   ],
   "execution_count": 3
  },
  {
   "metadata": {
    "ExecuteTime": {
     "end_time": "2025-10-16T10:36:50.629093Z",
     "start_time": "2025-10-16T10:36:50.624989Z"
    }
   },
   "cell_type": "code",
   "source": "sorted_df = df.sort_values(by='2022 Population', ascending=False) ",
   "id": "9e371010cd76b4b6",
   "outputs": [],
   "execution_count": 4
  },
  {
   "metadata": {
    "ExecuteTime": {
     "end_time": "2025-10-16T10:38:01.159548Z",
     "start_time": "2025-10-16T10:37:59.704317Z"
    }
   },
   "cell_type": "code",
   "source": "px.scatter(sorted_df, x=\"Country/Territory\", y=\"2022 Population\")",
   "id": "2edbb239c86a54a",
   "outputs": [
    {
     "data": {
      "application/vnd.plotly.v1+json": {
       "data": [
        {
         "hovertemplate": "Country/Territory=%{x}<br>2022 Population=%{y}<extra></extra>",
         "legendgroup": "",
         "marker": {
          "color": "#636efa",
          "symbol": "circle"
         },
         "mode": "markers",
         "name": "",
         "orientation": "v",
         "showlegend": false,
         "x": [
          "China",
          "India",
          "United States",
          "Indonesia",
          "Pakistan",
          "Nigeria",
          "Brazil",
          "Bangladesh",
          "Russia",
          "Mexico",
          "Japan",
          "Ethiopia",
          "Philippines",
          "Egypt",
          "DR Congo",
          "Vietnam",
          "Iran",
          "Turkey",
          "Germany",
          "Thailand",
          "United Kingdom",
          "Tanzania",
          "France",
          "South Africa",
          "Italy",
          "Myanmar",
          "Kenya",
          "Colombia",
          "South Korea",
          "Spain",
          "Uganda",
          "Sudan",
          "Argentina",
          "Algeria",
          "Iraq",
          "Afghanistan",
          "Poland",
          "Ukraine",
          "Canada",
          "Morocco",
          "Saudi Arabia",
          "Angola",
          "Uzbekistan",
          "Peru",
          "Malaysia",
          "Yemen",
          "Ghana",
          "Mozambique",
          "Nepal",
          "Madagascar",
          "Venezuela",
          "Ivory Coast",
          "Cameroon",
          "Niger",
          "Australia",
          "North Korea",
          "Taiwan",
          "Burkina Faso",
          "Mali",
          "Syria",
          "Sri Lanka",
          "Malawi",
          "Zambia",
          "Romania",
          "Chile",
          "Kazakhstan",
          "Ecuador",
          "Guatemala",
          "Chad",
          "Somalia",
          "Netherlands",
          "Senegal",
          "Cambodia",
          "Zimbabwe",
          "Guinea",
          "Rwanda",
          "Benin",
          "Burundi",
          "Tunisia",
          "Bolivia",
          "Belgium",
          "Haiti",
          "Jordan",
          "Dominican Republic",
          "Cuba",
          "South Sudan",
          "Sweden",
          "Czech Republic",
          "Honduras",
          "Greece",
          "Azerbaijan",
          "Portugal",
          "Papua New Guinea",
          "Hungary",
          "Tajikistan",
          "Belarus",
          "United Arab Emirates",
          "Israel",
          "Austria",
          "Togo",
          "Switzerland",
          "Sierra Leone",
          "Laos",
          "Hong Kong",
          "Serbia",
          "Nicaragua",
          "Libya",
          "Bulgaria",
          "Paraguay",
          "Kyrgyzstan",
          "Turkmenistan",
          "El Salvador",
          "Singapore",
          "Republic of the Congo",
          "Denmark",
          "Slovakia",
          "Central African Republic",
          "Finland",
          "Lebanon",
          "Norway",
          "Liberia",
          "Palestine",
          "New Zealand",
          "Costa Rica",
          "Ireland",
          "Mauritania",
          "Oman",
          "Panama",
          "Kuwait",
          "Croatia",
          "Georgia",
          "Eritrea",
          "Uruguay",
          "Mongolia",
          "Moldova",
          "Puerto Rico",
          "Bosnia and Herzegovina",
          "Albania",
          "Jamaica",
          "Armenia",
          "Lithuania",
          "Gambia",
          "Qatar",
          "Botswana",
          "Namibia",
          "Gabon",
          "Lesotho",
          "Slovenia",
          "Guinea-Bissau",
          "North Macedonia",
          "Latvia",
          "Equatorial Guinea",
          "Trinidad and Tobago",
          "Bahrain",
          "Timor-Leste",
          "Estonia",
          "Mauritius",
          "Cyprus",
          "Eswatini",
          "Djibouti",
          "Reunion",
          "Fiji",
          "Comoros",
          "Guyana",
          "Bhutan",
          "Solomon Islands",
          "Macau",
          "Luxembourg",
          "Montenegro",
          "Suriname",
          "Cape Verde",
          "Western Sahara",
          "Malta",
          "Maldives",
          "Brunei",
          "Bahamas",
          "Belize",
          "Guadeloupe",
          "Iceland",
          "Martinique",
          "Vanuatu",
          "Mayotte",
          "French Polynesia",
          "French Guiana",
          "New Caledonia",
          "Barbados",
          "Sao Tome and Principe",
          "Samoa",
          "Curacao",
          "Saint Lucia",
          "Guam",
          "Kiribati",
          "Grenada",
          "Micronesia",
          "Jersey",
          "Seychelles",
          "Tonga",
          "Aruba",
          "Saint Vincent and the Grenadines",
          "United States Virgin Islands",
          "Antigua and Barbuda",
          "Isle of Man",
          "Andorra",
          "Dominica",
          "Cayman Islands",
          "Bermuda",
          "Guernsey",
          "Greenland",
          "Faroe Islands",
          "Northern Mariana Islands",
          "Saint Kitts and Nevis",
          "Turks and Caicos Islands",
          "American Samoa",
          "Sint Maarten",
          "Marshall Islands",
          "Liechtenstein",
          "Monaco",
          "San Marino",
          "Gibraltar",
          "Saint Martin",
          "British Virgin Islands",
          "Palau",
          "Cook Islands",
          "Anguilla",
          "Nauru",
          "Wallis and Futuna",
          "Tuvalu",
          "Saint Barthelemy",
          "Saint Pierre and Miquelon",
          "Montserrat",
          "Falkland Islands",
          "Niue",
          "Tokelau",
          "Vatican City"
         ],
         "xaxis": "x",
         "y": {
          "dtype": "i4",
          "bdata": "aVD9VLVYeFTB5CkUG9FrEN5mDg6crAYNWmzVDMQYNApiJqAI/Y6ZB0xaYwfUoFoHYUrjBheTnQakxuYFaDbaBaosRwU5NBYFcx/4BIYCRgTIGgYElGrnA8Qf2gN96JEDIteEA+q1OgPfZDgD6IgXA4KlFgPmr9UCsfjQAlw+ywKubrYCOSutAvr0pgJDk3MC+StgAuvMXQI3xEoCM5A7AvSNKwJ7Cx8CRGAQAjSOBwIt2wUCZisCAh7N/gEtE/cBfB7SAcLWwwGA2a8BHrKtASjxqQHp5o8BhW+PAajJjQGSlWwBYvlZATbAWAHBmlEBzyFNAUVcNwELcjEBA/orARUhKwFu/ScBaKwSAcRGEAGzbw4BR4QMAW4BDAFhOggBYtv/ABkI+QANetMAOjfSAKC/ywDorcQAFYq8AG6GugD62rEA5MWwAG01rACVVqsAnxWrAIyFpgBj+KAAIiCgAFwxnwBLdp4AOg2eAJG4nACbw5oAzBaYABPelwDqfZEAaQ+QAOXpiQBhaIgAOwWHAHhehQAWUIMAA+RyAGFFcgB1MG4AKAZqALXyZwABfGcASHdnAN8sZQAyIGIAiK9gAIkuWwD4GVsAlcFZAL0cVgCIIVUAiYtUAEvEUwDP61IAmelQABgcUAAIH08AnQ1PAIWlTACLREgAKtRFAAVFQwBJI0EAln89AIEiOQDANjgASjo0AN7aMwAk8TEAt6AxAPZWMQDRXisAcSQrADVtKgBn9ikASEopANIfKQCYIigAZCsnAAB0JAAhLyMApFggAN4gIAAf8h8AGz0cAJyOGQCkXBcA6XYWAHB3FADuOxQADdQTAKAYEwAGVhIAURoRAOTcDgDmLw4ApsQMABZXDAB38AsAMQ0LAICbCgCv4QkAipEJADhuCQD9DAkA8skIACYjCAAL/gcA6tkGAIBBBgAYLwYA6AkGAKOwBQCTmwUAVPwEANX5BABnrAQAraUEAJ5sBAAjTAQANHgDAK5kAwC76gIAkb4CAP6eAgCgAAIA/ukBAPS9AQC6sAEAbqIBAGqhAQDNnwEADJYBAImEAQBDbgEAJ0oBANA3AQAhHAEAYgwBALj6AABF9wAAktwAAGLPAACPwQAAKboAAIeyAADxrAAAj6wAAGGiAACfmQAAdY4AAHyDAACJfwAAL3wAAEl6AACHRgAAc0IAAPE9AAB8MQAANC0AADAsAADXKgAA5hYAACYRAADEDgAAjgcAAE8HAAD+AQAA"
         },
         "yaxis": "y",
         "type": "scatter"
        }
       ],
       "layout": {
        "template": {
         "data": {
          "histogram2dcontour": [
           {
            "type": "histogram2dcontour",
            "colorbar": {
             "outlinewidth": 0,
             "ticks": ""
            },
            "colorscale": [
             [
              0.0,
              "#0d0887"
             ],
             [
              0.1111111111111111,
              "#46039f"
             ],
             [
              0.2222222222222222,
              "#7201a8"
             ],
             [
              0.3333333333333333,
              "#9c179e"
             ],
             [
              0.4444444444444444,
              "#bd3786"
             ],
             [
              0.5555555555555556,
              "#d8576b"
             ],
             [
              0.6666666666666666,
              "#ed7953"
             ],
             [
              0.7777777777777778,
              "#fb9f3a"
             ],
             [
              0.8888888888888888,
              "#fdca26"
             ],
             [
              1.0,
              "#f0f921"
             ]
            ]
           }
          ],
          "choropleth": [
           {
            "type": "choropleth",
            "colorbar": {
             "outlinewidth": 0,
             "ticks": ""
            }
           }
          ],
          "histogram2d": [
           {
            "type": "histogram2d",
            "colorbar": {
             "outlinewidth": 0,
             "ticks": ""
            },
            "colorscale": [
             [
              0.0,
              "#0d0887"
             ],
             [
              0.1111111111111111,
              "#46039f"
             ],
             [
              0.2222222222222222,
              "#7201a8"
             ],
             [
              0.3333333333333333,
              "#9c179e"
             ],
             [
              0.4444444444444444,
              "#bd3786"
             ],
             [
              0.5555555555555556,
              "#d8576b"
             ],
             [
              0.6666666666666666,
              "#ed7953"
             ],
             [
              0.7777777777777778,
              "#fb9f3a"
             ],
             [
              0.8888888888888888,
              "#fdca26"
             ],
             [
              1.0,
              "#f0f921"
             ]
            ]
           }
          ],
          "heatmap": [
           {
            "type": "heatmap",
            "colorbar": {
             "outlinewidth": 0,
             "ticks": ""
            },
            "colorscale": [
             [
              0.0,
              "#0d0887"
             ],
             [
              0.1111111111111111,
              "#46039f"
             ],
             [
              0.2222222222222222,
              "#7201a8"
             ],
             [
              0.3333333333333333,
              "#9c179e"
             ],
             [
              0.4444444444444444,
              "#bd3786"
             ],
             [
              0.5555555555555556,
              "#d8576b"
             ],
             [
              0.6666666666666666,
              "#ed7953"
             ],
             [
              0.7777777777777778,
              "#fb9f3a"
             ],
             [
              0.8888888888888888,
              "#fdca26"
             ],
             [
              1.0,
              "#f0f921"
             ]
            ]
           }
          ],
          "contourcarpet": [
           {
            "type": "contourcarpet",
            "colorbar": {
             "outlinewidth": 0,
             "ticks": ""
            }
           }
          ],
          "contour": [
           {
            "type": "contour",
            "colorbar": {
             "outlinewidth": 0,
             "ticks": ""
            },
            "colorscale": [
             [
              0.0,
              "#0d0887"
             ],
             [
              0.1111111111111111,
              "#46039f"
             ],
             [
              0.2222222222222222,
              "#7201a8"
             ],
             [
              0.3333333333333333,
              "#9c179e"
             ],
             [
              0.4444444444444444,
              "#bd3786"
             ],
             [
              0.5555555555555556,
              "#d8576b"
             ],
             [
              0.6666666666666666,
              "#ed7953"
             ],
             [
              0.7777777777777778,
              "#fb9f3a"
             ],
             [
              0.8888888888888888,
              "#fdca26"
             ],
             [
              1.0,
              "#f0f921"
             ]
            ]
           }
          ],
          "surface": [
           {
            "type": "surface",
            "colorbar": {
             "outlinewidth": 0,
             "ticks": ""
            },
            "colorscale": [
             [
              0.0,
              "#0d0887"
             ],
             [
              0.1111111111111111,
              "#46039f"
             ],
             [
              0.2222222222222222,
              "#7201a8"
             ],
             [
              0.3333333333333333,
              "#9c179e"
             ],
             [
              0.4444444444444444,
              "#bd3786"
             ],
             [
              0.5555555555555556,
              "#d8576b"
             ],
             [
              0.6666666666666666,
              "#ed7953"
             ],
             [
              0.7777777777777778,
              "#fb9f3a"
             ],
             [
              0.8888888888888888,
              "#fdca26"
             ],
             [
              1.0,
              "#f0f921"
             ]
            ]
           }
          ],
          "mesh3d": [
           {
            "type": "mesh3d",
            "colorbar": {
             "outlinewidth": 0,
             "ticks": ""
            }
           }
          ],
          "scatter": [
           {
            "fillpattern": {
             "fillmode": "overlay",
             "size": 10,
             "solidity": 0.2
            },
            "type": "scatter"
           }
          ],
          "parcoords": [
           {
            "type": "parcoords",
            "line": {
             "colorbar": {
              "outlinewidth": 0,
              "ticks": ""
             }
            }
           }
          ],
          "scatterpolargl": [
           {
            "type": "scatterpolargl",
            "marker": {
             "colorbar": {
              "outlinewidth": 0,
              "ticks": ""
             }
            }
           }
          ],
          "bar": [
           {
            "error_x": {
             "color": "#2a3f5f"
            },
            "error_y": {
             "color": "#2a3f5f"
            },
            "marker": {
             "line": {
              "color": "#E5ECF6",
              "width": 0.5
             },
             "pattern": {
              "fillmode": "overlay",
              "size": 10,
              "solidity": 0.2
             }
            },
            "type": "bar"
           }
          ],
          "scattergeo": [
           {
            "type": "scattergeo",
            "marker": {
             "colorbar": {
              "outlinewidth": 0,
              "ticks": ""
             }
            }
           }
          ],
          "scatterpolar": [
           {
            "type": "scatterpolar",
            "marker": {
             "colorbar": {
              "outlinewidth": 0,
              "ticks": ""
             }
            }
           }
          ],
          "histogram": [
           {
            "marker": {
             "pattern": {
              "fillmode": "overlay",
              "size": 10,
              "solidity": 0.2
             }
            },
            "type": "histogram"
           }
          ],
          "scattergl": [
           {
            "type": "scattergl",
            "marker": {
             "colorbar": {
              "outlinewidth": 0,
              "ticks": ""
             }
            }
           }
          ],
          "scatter3d": [
           {
            "type": "scatter3d",
            "line": {
             "colorbar": {
              "outlinewidth": 0,
              "ticks": ""
             }
            },
            "marker": {
             "colorbar": {
              "outlinewidth": 0,
              "ticks": ""
             }
            }
           }
          ],
          "scattermap": [
           {
            "type": "scattermap",
            "marker": {
             "colorbar": {
              "outlinewidth": 0,
              "ticks": ""
             }
            }
           }
          ],
          "scattermapbox": [
           {
            "type": "scattermapbox",
            "marker": {
             "colorbar": {
              "outlinewidth": 0,
              "ticks": ""
             }
            }
           }
          ],
          "scatterternary": [
           {
            "type": "scatterternary",
            "marker": {
             "colorbar": {
              "outlinewidth": 0,
              "ticks": ""
             }
            }
           }
          ],
          "scattercarpet": [
           {
            "type": "scattercarpet",
            "marker": {
             "colorbar": {
              "outlinewidth": 0,
              "ticks": ""
             }
            }
           }
          ],
          "carpet": [
           {
            "aaxis": {
             "endlinecolor": "#2a3f5f",
             "gridcolor": "white",
             "linecolor": "white",
             "minorgridcolor": "white",
             "startlinecolor": "#2a3f5f"
            },
            "baxis": {
             "endlinecolor": "#2a3f5f",
             "gridcolor": "white",
             "linecolor": "white",
             "minorgridcolor": "white",
             "startlinecolor": "#2a3f5f"
            },
            "type": "carpet"
           }
          ],
          "table": [
           {
            "cells": {
             "fill": {
              "color": "#EBF0F8"
             },
             "line": {
              "color": "white"
             }
            },
            "header": {
             "fill": {
              "color": "#C8D4E3"
             },
             "line": {
              "color": "white"
             }
            },
            "type": "table"
           }
          ],
          "barpolar": [
           {
            "marker": {
             "line": {
              "color": "#E5ECF6",
              "width": 0.5
             },
             "pattern": {
              "fillmode": "overlay",
              "size": 10,
              "solidity": 0.2
             }
            },
            "type": "barpolar"
           }
          ],
          "pie": [
           {
            "automargin": true,
            "type": "pie"
           }
          ]
         },
         "layout": {
          "autotypenumbers": "strict",
          "colorway": [
           "#636efa",
           "#EF553B",
           "#00cc96",
           "#ab63fa",
           "#FFA15A",
           "#19d3f3",
           "#FF6692",
           "#B6E880",
           "#FF97FF",
           "#FECB52"
          ],
          "font": {
           "color": "#2a3f5f"
          },
          "hovermode": "closest",
          "hoverlabel": {
           "align": "left"
          },
          "paper_bgcolor": "white",
          "plot_bgcolor": "#E5ECF6",
          "polar": {
           "bgcolor": "#E5ECF6",
           "angularaxis": {
            "gridcolor": "white",
            "linecolor": "white",
            "ticks": ""
           },
           "radialaxis": {
            "gridcolor": "white",
            "linecolor": "white",
            "ticks": ""
           }
          },
          "ternary": {
           "bgcolor": "#E5ECF6",
           "aaxis": {
            "gridcolor": "white",
            "linecolor": "white",
            "ticks": ""
           },
           "baxis": {
            "gridcolor": "white",
            "linecolor": "white",
            "ticks": ""
           },
           "caxis": {
            "gridcolor": "white",
            "linecolor": "white",
            "ticks": ""
           }
          },
          "coloraxis": {
           "colorbar": {
            "outlinewidth": 0,
            "ticks": ""
           }
          },
          "colorscale": {
           "sequential": [
            [
             0.0,
             "#0d0887"
            ],
            [
             0.1111111111111111,
             "#46039f"
            ],
            [
             0.2222222222222222,
             "#7201a8"
            ],
            [
             0.3333333333333333,
             "#9c179e"
            ],
            [
             0.4444444444444444,
             "#bd3786"
            ],
            [
             0.5555555555555556,
             "#d8576b"
            ],
            [
             0.6666666666666666,
             "#ed7953"
            ],
            [
             0.7777777777777778,
             "#fb9f3a"
            ],
            [
             0.8888888888888888,
             "#fdca26"
            ],
            [
             1.0,
             "#f0f921"
            ]
           ],
           "sequentialminus": [
            [
             0.0,
             "#0d0887"
            ],
            [
             0.1111111111111111,
             "#46039f"
            ],
            [
             0.2222222222222222,
             "#7201a8"
            ],
            [
             0.3333333333333333,
             "#9c179e"
            ],
            [
             0.4444444444444444,
             "#bd3786"
            ],
            [
             0.5555555555555556,
             "#d8576b"
            ],
            [
             0.6666666666666666,
             "#ed7953"
            ],
            [
             0.7777777777777778,
             "#fb9f3a"
            ],
            [
             0.8888888888888888,
             "#fdca26"
            ],
            [
             1.0,
             "#f0f921"
            ]
           ],
           "diverging": [
            [
             0,
             "#8e0152"
            ],
            [
             0.1,
             "#c51b7d"
            ],
            [
             0.2,
             "#de77ae"
            ],
            [
             0.3,
             "#f1b6da"
            ],
            [
             0.4,
             "#fde0ef"
            ],
            [
             0.5,
             "#f7f7f7"
            ],
            [
             0.6,
             "#e6f5d0"
            ],
            [
             0.7,
             "#b8e186"
            ],
            [
             0.8,
             "#7fbc41"
            ],
            [
             0.9,
             "#4d9221"
            ],
            [
             1,
             "#276419"
            ]
           ]
          },
          "xaxis": {
           "gridcolor": "white",
           "linecolor": "white",
           "ticks": "",
           "title": {
            "standoff": 15
           },
           "zerolinecolor": "white",
           "automargin": true,
           "zerolinewidth": 2
          },
          "yaxis": {
           "gridcolor": "white",
           "linecolor": "white",
           "ticks": "",
           "title": {
            "standoff": 15
           },
           "zerolinecolor": "white",
           "automargin": true,
           "zerolinewidth": 2
          },
          "scene": {
           "xaxis": {
            "backgroundcolor": "#E5ECF6",
            "gridcolor": "white",
            "linecolor": "white",
            "showbackground": true,
            "ticks": "",
            "zerolinecolor": "white",
            "gridwidth": 2
           },
           "yaxis": {
            "backgroundcolor": "#E5ECF6",
            "gridcolor": "white",
            "linecolor": "white",
            "showbackground": true,
            "ticks": "",
            "zerolinecolor": "white",
            "gridwidth": 2
           },
           "zaxis": {
            "backgroundcolor": "#E5ECF6",
            "gridcolor": "white",
            "linecolor": "white",
            "showbackground": true,
            "ticks": "",
            "zerolinecolor": "white",
            "gridwidth": 2
           }
          },
          "shapedefaults": {
           "line": {
            "color": "#2a3f5f"
           }
          },
          "annotationdefaults": {
           "arrowcolor": "#2a3f5f",
           "arrowhead": 0,
           "arrowwidth": 1
          },
          "geo": {
           "bgcolor": "white",
           "landcolor": "#E5ECF6",
           "subunitcolor": "white",
           "showland": true,
           "showlakes": true,
           "lakecolor": "white"
          },
          "title": {
           "x": 0.05
          },
          "mapbox": {
           "style": "light"
          }
         }
        },
        "xaxis": {
         "anchor": "y",
         "domain": [
          0.0,
          1.0
         ],
         "title": {
          "text": "Country/Territory"
         }
        },
        "yaxis": {
         "anchor": "x",
         "domain": [
          0.0,
          1.0
         ],
         "title": {
          "text": "2022 Population"
         }
        },
        "legend": {
         "tracegroupgap": 0
        },
        "margin": {
         "t": 60
        }
       },
       "config": {
        "plotlyServerURL": "https://plot.ly"
       }
      }
     },
     "metadata": {},
     "output_type": "display_data"
    }
   ],
   "execution_count": 6
  },
  {
   "metadata": {
    "ExecuteTime": {
     "end_time": "2025-10-16T11:04:45.272825Z",
     "start_time": "2025-10-16T11:04:45.218262Z"
    }
   },
   "cell_type": "code",
   "source": [
    "fig = px.scatter(\n",
    "    sorted_df,\n",
    "    x=\"Country/Territory\",\n",
    "    y=\"2022 Population\",\n",
    "    size=\"2022 Population\",\n",
    "    color=\"Continent\", # This causes the plotly to categorize the data by Continent whcih we don't want\n",
    ")\n",
    "\n",
    "fig.update_xaxes(categoryorder=\"array\", categoryarray=sorted_df['Country/Territory'])\n",
    "\n",
    "fig.show()"
   ],
   "id": "4c030fa35ead5e6c",
   "outputs": [
    {
     "data": {
      "application/vnd.plotly.v1+json": {
       "data": [
        {
         "hovertemplate": "Continent=Asia<br>Country/Territory=%{x}<br>2022 Population=%{marker.size}<extra></extra>",
         "legendgroup": "Asia",
         "marker": {
          "color": "#636efa",
          "size": {
           "dtype": "i4",
           "bdata": "aVD9VLVYeFQb0WsQ3mYODsQYNApMWmMHYUrjBmg22gWqLEcFOTQWBYYCRgTqtToDgqUWA/r0pgJDk3MC9I0rAkRgEAIt2wUCZisCAnwe0gGoyY0BkpVsAcGaUQHPIU0Bbv0nAWLb/wBtNawAOg2eABPelwBpD5AA5emJAAPkcgBhRXIA3yxlADIgYgCJLlsAS8RTABgcUAAq1EUASSNBAIEiOQDe2jMANW0qANIfKQDpdhYAcHcUAHfwCwCAmwoAC/4HAOrZBgA="
          },
          "sizemode": "area",
          "sizeref": 3564718.3425,
          "symbol": "circle"
         },
         "mode": "markers",
         "name": "Asia",
         "orientation": "v",
         "showlegend": true,
         "x": [
          "China",
          "India",
          "Indonesia",
          "Pakistan",
          "Bangladesh",
          "Japan",
          "Philippines",
          "Vietnam",
          "Iran",
          "Turkey",
          "Thailand",
          "Myanmar",
          "South Korea",
          "Iraq",
          "Afghanistan",
          "Saudi Arabia",
          "Uzbekistan",
          "Malaysia",
          "Yemen",
          "Nepal",
          "North Korea",
          "Taiwan",
          "Syria",
          "Sri Lanka",
          "Kazakhstan",
          "Cambodia",
          "Jordan",
          "Azerbaijan",
          "Tajikistan",
          "United Arab Emirates",
          "Israel",
          "Laos",
          "Hong Kong",
          "Kyrgyzstan",
          "Turkmenistan",
          "Singapore",
          "Lebanon",
          "Palestine",
          "Oman",
          "Kuwait",
          "Georgia",
          "Mongolia",
          "Armenia",
          "Qatar",
          "Bahrain",
          "Timor-Leste",
          "Bhutan",
          "Macau",
          "Maldives",
          "Brunei"
         ],
         "xaxis": "x",
         "y": {
          "dtype": "i4",
          "bdata": "aVD9VLVYeFQb0WsQ3mYODsQYNApMWmMHYUrjBmg22gWqLEcFOTQWBYYCRgTqtToDgqUWA/r0pgJDk3MC9I0rAkRgEAIt2wUCZisCAnwe0gGoyY0BkpVsAcGaUQHPIU0Bbv0nAWLb/wBtNawAOg2eABPelwBpD5AA5emJAAPkcgBhRXIA3yxlADIgYgCJLlsAS8RTABgcUAAq1EUASSNBAIEiOQDe2jMANW0qANIfKQDpdhYAcHcUAHfwCwCAmwoAC/4HAOrZBgA="
         },
         "yaxis": "y",
         "type": "scatter"
        },
        {
         "hovertemplate": "Continent=North America<br>Country/Territory=%{x}<br>2022 Population=%{marker.size}<extra></extra>",
         "legendgroup": "North America",
         "marker": {
          "color": "#EF553B",
          "size": {
           "dtype": "i4",
           "bdata": "weQpFP2OmQc3xEoCxEYQAeTFsACVVqsAnxWrAFwxnwAoBmoAiK9gAJ0NTwAFRUMAt6AxAHEkKwCkXBcAgEEGABgvBgDoCQYAk5sFACNMBAC76gIAkb4CAP7pAQDNnwEADJYBAImEAQBDbgEAIRwBAGIMAQC4+gAAktwAACm6AACHsgAAj6wAAC98AABJegAA8T0AANcqAADmFgAAJhEAAA=="
          },
          "sizemode": "area",
          "sizeref": 3564718.3425,
          "symbol": "circle"
         },
         "mode": "markers",
         "name": "North America",
         "orientation": "v",
         "showlegend": true,
         "x": [
          "United States",
          "Mexico",
          "Canada",
          "Guatemala",
          "Haiti",
          "Dominican Republic",
          "Cuba",
          "Honduras",
          "Nicaragua",
          "El Salvador",
          "Costa Rica",
          "Panama",
          "Puerto Rico",
          "Jamaica",
          "Trinidad and Tobago",
          "Bahamas",
          "Belize",
          "Guadeloupe",
          "Martinique",
          "Barbados",
          "Curacao",
          "Saint Lucia",
          "Grenada",
          "Aruba",
          "Saint Vincent and the Grenadines",
          "United States Virgin Islands",
          "Antigua and Barbuda",
          "Dominica",
          "Cayman Islands",
          "Bermuda",
          "Greenland",
          "Saint Kitts and Nevis",
          "Turks and Caicos Islands",
          "Sint Maarten",
          "Saint Martin",
          "British Virgin Islands",
          "Anguilla",
          "Saint Barthelemy",
          "Saint Pierre and Miquelon",
          "Montserrat"
         ],
         "xaxis": "x",
         "y": {
          "dtype": "i4",
          "bdata": "weQpFP2OmQc3xEoCxEYQAeTFsACVVqsAnxWrAFwxnwAoBmoAiK9gAJ0NTwAFRUMAt6AxAHEkKwCkXBcAgEEGABgvBgDoCQYAk5sFACNMBAC76gIAkb4CAP7pAQDNnwEADJYBAImEAQBDbgEAIRwBAGIMAQC4+gAAktwAACm6AACHsgAAj6wAAC98AABJegAA8T0AANcqAADmFgAAJhEAAA=="
         },
         "yaxis": "y",
         "type": "scatter"
        },
        {
         "hovertemplate": "Continent=Africa<br>Country/Territory=%{x}<br>2022 Population=%{marker.size}<extra></extra>",
         "legendgroup": "Africa",
         "marker": {
          "color": "#00cc96",
          "size": {
           "dtype": "i4",
           "bdata": "nKwGDdSgWgcXk50GpMbmBZRq5wN96JED32Q4A7H40AJcPssCOSutAjOQOwJ7Cx8CHs3+AS0T9wHC1sMBHrKtASjxqQHp5o8BYvlZATbAWAFFXDcBC3IxAbNvDgFHhAwBYToIARkI+QANetMAOjfSAKC/ywDorcQAFYq8AIyFpgA7BYcAFlCDALXyZwD4GVsAiCFVAJnpUACLREgAwDY4AEhKKQCYIigAZCsnAAB0JAAhLyMA3iAgAJyOGQAN1BMABlYSAFEaEQDk3A4ApsQMAP0MCQDyyQgA1fkEADR4AwBuogEA"
          },
          "sizemode": "area",
          "sizeref": 3564718.3425,
          "symbol": "circle"
         },
         "mode": "markers",
         "name": "Africa",
         "orientation": "v",
         "showlegend": true,
         "x": [
          "Nigeria",
          "Ethiopia",
          "Egypt",
          "DR Congo",
          "Tanzania",
          "South Africa",
          "Kenya",
          "Uganda",
          "Sudan",
          "Algeria",
          "Morocco",
          "Angola",
          "Ghana",
          "Mozambique",
          "Madagascar",
          "Ivory Coast",
          "Cameroon",
          "Niger",
          "Burkina Faso",
          "Mali",
          "Malawi",
          "Zambia",
          "Chad",
          "Somalia",
          "Senegal",
          "Zimbabwe",
          "Guinea",
          "Rwanda",
          "Benin",
          "Burundi",
          "Tunisia",
          "South Sudan",
          "Togo",
          "Sierra Leone",
          "Libya",
          "Republic of the Congo",
          "Central African Republic",
          "Liberia",
          "Mauritania",
          "Eritrea",
          "Gambia",
          "Botswana",
          "Namibia",
          "Gabon",
          "Lesotho",
          "Guinea-Bissau",
          "Equatorial Guinea",
          "Mauritius",
          "Eswatini",
          "Djibouti",
          "Reunion",
          "Comoros",
          "Cape Verde",
          "Western Sahara",
          "Mayotte",
          "Sao Tome and Principe",
          "Seychelles"
         ],
         "xaxis": "x",
         "y": {
          "dtype": "i4",
          "bdata": "nKwGDdSgWgcXk50GpMbmBZRq5wN96JED32Q4A7H40AJcPssCOSutAjOQOwJ7Cx8CHs3+AS0T9wHC1sMBHrKtASjxqQHp5o8BYvlZATbAWAFFXDcBC3IxAbNvDgFHhAwBYToIARkI+QANetMAOjfSAKC/ywDorcQAFYq8AIyFpgA7BYcAFlCDALXyZwD4GVsAiCFVAJnpUACLREgAwDY4AEhKKQCYIigAZCsnAAB0JAAhLyMA3iAgAJyOGQAN1BMABlYSAFEaEQDk3A4ApsQMAP0MCQDyyQgA1fkEADR4AwBuogEA"
         },
         "yaxis": "y",
         "type": "scatter"
        },
        {
         "hovertemplate": "Continent=South America<br>Country/Territory=%{x}<br>2022 Population=%{marker.size}<extra></extra>",
         "legendgroup": "South America",
         "marker": {
          "color": "#ab63fa",
          "size": {
           "dtype": "i4",
           "bdata": "WmzVDOiIFwOubrYCNI4HAoDZrwEVISsBaKwSAW6GugBId2cASjo0ABZXDAA4bgkAraUEAMQOAAA="
          },
          "sizemode": "area",
          "sizeref": 3564718.3425,
          "symbol": "circle"
         },
         "mode": "markers",
         "name": "South America",
         "orientation": "v",
         "showlegend": true,
         "x": [
          "Brazil",
          "Colombia",
          "Argentina",
          "Peru",
          "Venezuela",
          "Chile",
          "Ecuador",
          "Bolivia",
          "Paraguay",
          "Uruguay",
          "Guyana",
          "Suriname",
          "French Guiana",
          "Falkland Islands"
         ],
         "xaxis": "x",
         "y": {
          "dtype": "i4",
          "bdata": "WmzVDOiIFwOubrYCNI4HAoDZrwEVISsBaKwSAW6GugBId2cASjo0ABZXDAA4bgkAraUEAMQOAAA="
         },
         "yaxis": "y",
         "type": "scatter"
        },
        {
         "hovertemplate": "Continent=Europe<br>Country/Territory=%{x}<br>2022 Population=%{marker.size}<extra></extra>",
         "legendgroup": "Europe",
         "marker": {
          "color": "#FFA15A",
          "size": {
           "dtype": "i4",
           "bdata": "YiagCHMf+ATIGgYExB/aAyLXhAPmr9UC+StgAuvMXQID+isBbgEMAfrasQBj+KAAIiCgAEt2ngCRuJwAzBaYAOp9kQBhaIgAeF6FAHUwbgABfGcAlcFZAL0cVgCJi1QAz+tSAIWlTACWfz0AJPExAPZWMQDRXisAZ/YpAKRYIAAf8h8AGz0cAO47FACgGBMAr+EJAIqRCQAmIwgAo7AFALqwAQAnSgEA0DcBAEX3AABizwAAn5kAAHWOAAB8gwAAiX8AAP4BAAA="
          },
          "sizemode": "area",
          "sizeref": 3564718.3425,
          "symbol": "circle"
         },
         "mode": "markers",
         "name": "Europe",
         "orientation": "v",
         "showlegend": true,
         "x": [
          "Russia",
          "Germany",
          "United Kingdom",
          "France",
          "Italy",
          "Spain",
          "Poland",
          "Ukraine",
          "Romania",
          "Netherlands",
          "Belgium",
          "Sweden",
          "Czech Republic",
          "Greece",
          "Portugal",
          "Hungary",
          "Belarus",
          "Austria",
          "Switzerland",
          "Serbia",
          "Bulgaria",
          "Denmark",
          "Slovakia",
          "Finland",
          "Norway",
          "Ireland",
          "Croatia",
          "Moldova",
          "Bosnia and Herzegovina",
          "Albania",
          "Lithuania",
          "Slovenia",
          "North Macedonia",
          "Latvia",
          "Estonia",
          "Cyprus",
          "Luxembourg",
          "Montenegro",
          "Malta",
          "Iceland",
          "Jersey",
          "Isle of Man",
          "Andorra",
          "Guernsey",
          "Faroe Islands",
          "Liechtenstein",
          "Monaco",
          "San Marino",
          "Gibraltar",
          "Vatican City"
         ],
         "xaxis": "x",
         "y": {
          "dtype": "i4",
          "bdata": "YiagCHMf+ATIGgYExB/aAyLXhAPmr9UC+StgAuvMXQID+isBbgEMAfrasQBj+KAAIiCgAEt2ngCRuJwAzBaYAOp9kQBhaIgAeF6FAHUwbgABfGcAlcFZAL0cVgCJi1QAz+tSAIWlTACWfz0AJPExAPZWMQDRXisAZ/YpAKRYIAAf8h8AGz0cAO47FACgGBMAr+EJAIqRCQAmIwgAo7AFALqwAQAnSgEA0DcBAEX3AABizwAAn5kAAHWOAAB8gwAAiX8AAP4BAAA="
         },
         "yaxis": "y",
         "type": "scatter"
        },
        {
         "hovertemplate": "Continent=Oceania<br>Country/Territory=%{x}<br>2022 Population=%{marker.size}<extra></extra>",
         "legendgroup": "Oceania",
         "marker": {
          "color": "#19d3f3",
          "size": {
           "dtype": "i4",
           "bdata": "hW+PAZvDmgAIH08A5i8OADENCwBU/AQAZ6wEAJ5sBACuZAMA/p4CAKAAAgD0vQEAaqEBAI/BAADxrAAAYaIAAIdGAABzQgAAfDEAADQtAAAwLAAAjgcAAE8HAAA="
          },
          "sizemode": "area",
          "sizeref": 3564718.3425,
          "symbol": "circle"
         },
         "mode": "markers",
         "name": "Oceania",
         "orientation": "v",
         "showlegend": true,
         "x": [
          "Australia",
          "Papua New Guinea",
          "New Zealand",
          "Fiji",
          "Solomon Islands",
          "Vanuatu",
          "French Polynesia",
          "New Caledonia",
          "Samoa",
          "Guam",
          "Kiribati",
          "Micronesia",
          "Tonga",
          "Northern Mariana Islands",
          "American Samoa",
          "Marshall Islands",
          "Palau",
          "Cook Islands",
          "Nauru",
          "Wallis and Futuna",
          "Tuvalu",
          "Niue",
          "Tokelau"
         ],
         "xaxis": "x",
         "y": {
          "dtype": "i4",
          "bdata": "hW+PAZvDmgAIH08A5i8OADENCwBU/AQAZ6wEAJ5sBACuZAMA/p4CAKAAAgD0vQEAaqEBAI/BAADxrAAAYaIAAIdGAABzQgAAfDEAADQtAAAwLAAAjgcAAE8HAAA="
         },
         "yaxis": "y",
         "type": "scatter"
        }
       ],
       "layout": {
        "template": {
         "data": {
          "histogram2dcontour": [
           {
            "type": "histogram2dcontour",
            "colorbar": {
             "outlinewidth": 0,
             "ticks": ""
            },
            "colorscale": [
             [
              0.0,
              "#0d0887"
             ],
             [
              0.1111111111111111,
              "#46039f"
             ],
             [
              0.2222222222222222,
              "#7201a8"
             ],
             [
              0.3333333333333333,
              "#9c179e"
             ],
             [
              0.4444444444444444,
              "#bd3786"
             ],
             [
              0.5555555555555556,
              "#d8576b"
             ],
             [
              0.6666666666666666,
              "#ed7953"
             ],
             [
              0.7777777777777778,
              "#fb9f3a"
             ],
             [
              0.8888888888888888,
              "#fdca26"
             ],
             [
              1.0,
              "#f0f921"
             ]
            ]
           }
          ],
          "choropleth": [
           {
            "type": "choropleth",
            "colorbar": {
             "outlinewidth": 0,
             "ticks": ""
            }
           }
          ],
          "histogram2d": [
           {
            "type": "histogram2d",
            "colorbar": {
             "outlinewidth": 0,
             "ticks": ""
            },
            "colorscale": [
             [
              0.0,
              "#0d0887"
             ],
             [
              0.1111111111111111,
              "#46039f"
             ],
             [
              0.2222222222222222,
              "#7201a8"
             ],
             [
              0.3333333333333333,
              "#9c179e"
             ],
             [
              0.4444444444444444,
              "#bd3786"
             ],
             [
              0.5555555555555556,
              "#d8576b"
             ],
             [
              0.6666666666666666,
              "#ed7953"
             ],
             [
              0.7777777777777778,
              "#fb9f3a"
             ],
             [
              0.8888888888888888,
              "#fdca26"
             ],
             [
              1.0,
              "#f0f921"
             ]
            ]
           }
          ],
          "heatmap": [
           {
            "type": "heatmap",
            "colorbar": {
             "outlinewidth": 0,
             "ticks": ""
            },
            "colorscale": [
             [
              0.0,
              "#0d0887"
             ],
             [
              0.1111111111111111,
              "#46039f"
             ],
             [
              0.2222222222222222,
              "#7201a8"
             ],
             [
              0.3333333333333333,
              "#9c179e"
             ],
             [
              0.4444444444444444,
              "#bd3786"
             ],
             [
              0.5555555555555556,
              "#d8576b"
             ],
             [
              0.6666666666666666,
              "#ed7953"
             ],
             [
              0.7777777777777778,
              "#fb9f3a"
             ],
             [
              0.8888888888888888,
              "#fdca26"
             ],
             [
              1.0,
              "#f0f921"
             ]
            ]
           }
          ],
          "contourcarpet": [
           {
            "type": "contourcarpet",
            "colorbar": {
             "outlinewidth": 0,
             "ticks": ""
            }
           }
          ],
          "contour": [
           {
            "type": "contour",
            "colorbar": {
             "outlinewidth": 0,
             "ticks": ""
            },
            "colorscale": [
             [
              0.0,
              "#0d0887"
             ],
             [
              0.1111111111111111,
              "#46039f"
             ],
             [
              0.2222222222222222,
              "#7201a8"
             ],
             [
              0.3333333333333333,
              "#9c179e"
             ],
             [
              0.4444444444444444,
              "#bd3786"
             ],
             [
              0.5555555555555556,
              "#d8576b"
             ],
             [
              0.6666666666666666,
              "#ed7953"
             ],
             [
              0.7777777777777778,
              "#fb9f3a"
             ],
             [
              0.8888888888888888,
              "#fdca26"
             ],
             [
              1.0,
              "#f0f921"
             ]
            ]
           }
          ],
          "surface": [
           {
            "type": "surface",
            "colorbar": {
             "outlinewidth": 0,
             "ticks": ""
            },
            "colorscale": [
             [
              0.0,
              "#0d0887"
             ],
             [
              0.1111111111111111,
              "#46039f"
             ],
             [
              0.2222222222222222,
              "#7201a8"
             ],
             [
              0.3333333333333333,
              "#9c179e"
             ],
             [
              0.4444444444444444,
              "#bd3786"
             ],
             [
              0.5555555555555556,
              "#d8576b"
             ],
             [
              0.6666666666666666,
              "#ed7953"
             ],
             [
              0.7777777777777778,
              "#fb9f3a"
             ],
             [
              0.8888888888888888,
              "#fdca26"
             ],
             [
              1.0,
              "#f0f921"
             ]
            ]
           }
          ],
          "mesh3d": [
           {
            "type": "mesh3d",
            "colorbar": {
             "outlinewidth": 0,
             "ticks": ""
            }
           }
          ],
          "scatter": [
           {
            "fillpattern": {
             "fillmode": "overlay",
             "size": 10,
             "solidity": 0.2
            },
            "type": "scatter"
           }
          ],
          "parcoords": [
           {
            "type": "parcoords",
            "line": {
             "colorbar": {
              "outlinewidth": 0,
              "ticks": ""
             }
            }
           }
          ],
          "scatterpolargl": [
           {
            "type": "scatterpolargl",
            "marker": {
             "colorbar": {
              "outlinewidth": 0,
              "ticks": ""
             }
            }
           }
          ],
          "bar": [
           {
            "error_x": {
             "color": "#2a3f5f"
            },
            "error_y": {
             "color": "#2a3f5f"
            },
            "marker": {
             "line": {
              "color": "#E5ECF6",
              "width": 0.5
             },
             "pattern": {
              "fillmode": "overlay",
              "size": 10,
              "solidity": 0.2
             }
            },
            "type": "bar"
           }
          ],
          "scattergeo": [
           {
            "type": "scattergeo",
            "marker": {
             "colorbar": {
              "outlinewidth": 0,
              "ticks": ""
             }
            }
           }
          ],
          "scatterpolar": [
           {
            "type": "scatterpolar",
            "marker": {
             "colorbar": {
              "outlinewidth": 0,
              "ticks": ""
             }
            }
           }
          ],
          "histogram": [
           {
            "marker": {
             "pattern": {
              "fillmode": "overlay",
              "size": 10,
              "solidity": 0.2
             }
            },
            "type": "histogram"
           }
          ],
          "scattergl": [
           {
            "type": "scattergl",
            "marker": {
             "colorbar": {
              "outlinewidth": 0,
              "ticks": ""
             }
            }
           }
          ],
          "scatter3d": [
           {
            "type": "scatter3d",
            "line": {
             "colorbar": {
              "outlinewidth": 0,
              "ticks": ""
             }
            },
            "marker": {
             "colorbar": {
              "outlinewidth": 0,
              "ticks": ""
             }
            }
           }
          ],
          "scattermap": [
           {
            "type": "scattermap",
            "marker": {
             "colorbar": {
              "outlinewidth": 0,
              "ticks": ""
             }
            }
           }
          ],
          "scattermapbox": [
           {
            "type": "scattermapbox",
            "marker": {
             "colorbar": {
              "outlinewidth": 0,
              "ticks": ""
             }
            }
           }
          ],
          "scatterternary": [
           {
            "type": "scatterternary",
            "marker": {
             "colorbar": {
              "outlinewidth": 0,
              "ticks": ""
             }
            }
           }
          ],
          "scattercarpet": [
           {
            "type": "scattercarpet",
            "marker": {
             "colorbar": {
              "outlinewidth": 0,
              "ticks": ""
             }
            }
           }
          ],
          "carpet": [
           {
            "aaxis": {
             "endlinecolor": "#2a3f5f",
             "gridcolor": "white",
             "linecolor": "white",
             "minorgridcolor": "white",
             "startlinecolor": "#2a3f5f"
            },
            "baxis": {
             "endlinecolor": "#2a3f5f",
             "gridcolor": "white",
             "linecolor": "white",
             "minorgridcolor": "white",
             "startlinecolor": "#2a3f5f"
            },
            "type": "carpet"
           }
          ],
          "table": [
           {
            "cells": {
             "fill": {
              "color": "#EBF0F8"
             },
             "line": {
              "color": "white"
             }
            },
            "header": {
             "fill": {
              "color": "#C8D4E3"
             },
             "line": {
              "color": "white"
             }
            },
            "type": "table"
           }
          ],
          "barpolar": [
           {
            "marker": {
             "line": {
              "color": "#E5ECF6",
              "width": 0.5
             },
             "pattern": {
              "fillmode": "overlay",
              "size": 10,
              "solidity": 0.2
             }
            },
            "type": "barpolar"
           }
          ],
          "pie": [
           {
            "automargin": true,
            "type": "pie"
           }
          ]
         },
         "layout": {
          "autotypenumbers": "strict",
          "colorway": [
           "#636efa",
           "#EF553B",
           "#00cc96",
           "#ab63fa",
           "#FFA15A",
           "#19d3f3",
           "#FF6692",
           "#B6E880",
           "#FF97FF",
           "#FECB52"
          ],
          "font": {
           "color": "#2a3f5f"
          },
          "hovermode": "closest",
          "hoverlabel": {
           "align": "left"
          },
          "paper_bgcolor": "white",
          "plot_bgcolor": "#E5ECF6",
          "polar": {
           "bgcolor": "#E5ECF6",
           "angularaxis": {
            "gridcolor": "white",
            "linecolor": "white",
            "ticks": ""
           },
           "radialaxis": {
            "gridcolor": "white",
            "linecolor": "white",
            "ticks": ""
           }
          },
          "ternary": {
           "bgcolor": "#E5ECF6",
           "aaxis": {
            "gridcolor": "white",
            "linecolor": "white",
            "ticks": ""
           },
           "baxis": {
            "gridcolor": "white",
            "linecolor": "white",
            "ticks": ""
           },
           "caxis": {
            "gridcolor": "white",
            "linecolor": "white",
            "ticks": ""
           }
          },
          "coloraxis": {
           "colorbar": {
            "outlinewidth": 0,
            "ticks": ""
           }
          },
          "colorscale": {
           "sequential": [
            [
             0.0,
             "#0d0887"
            ],
            [
             0.1111111111111111,
             "#46039f"
            ],
            [
             0.2222222222222222,
             "#7201a8"
            ],
            [
             0.3333333333333333,
             "#9c179e"
            ],
            [
             0.4444444444444444,
             "#bd3786"
            ],
            [
             0.5555555555555556,
             "#d8576b"
            ],
            [
             0.6666666666666666,
             "#ed7953"
            ],
            [
             0.7777777777777778,
             "#fb9f3a"
            ],
            [
             0.8888888888888888,
             "#fdca26"
            ],
            [
             1.0,
             "#f0f921"
            ]
           ],
           "sequentialminus": [
            [
             0.0,
             "#0d0887"
            ],
            [
             0.1111111111111111,
             "#46039f"
            ],
            [
             0.2222222222222222,
             "#7201a8"
            ],
            [
             0.3333333333333333,
             "#9c179e"
            ],
            [
             0.4444444444444444,
             "#bd3786"
            ],
            [
             0.5555555555555556,
             "#d8576b"
            ],
            [
             0.6666666666666666,
             "#ed7953"
            ],
            [
             0.7777777777777778,
             "#fb9f3a"
            ],
            [
             0.8888888888888888,
             "#fdca26"
            ],
            [
             1.0,
             "#f0f921"
            ]
           ],
           "diverging": [
            [
             0,
             "#8e0152"
            ],
            [
             0.1,
             "#c51b7d"
            ],
            [
             0.2,
             "#de77ae"
            ],
            [
             0.3,
             "#f1b6da"
            ],
            [
             0.4,
             "#fde0ef"
            ],
            [
             0.5,
             "#f7f7f7"
            ],
            [
             0.6,
             "#e6f5d0"
            ],
            [
             0.7,
             "#b8e186"
            ],
            [
             0.8,
             "#7fbc41"
            ],
            [
             0.9,
             "#4d9221"
            ],
            [
             1,
             "#276419"
            ]
           ]
          },
          "xaxis": {
           "gridcolor": "white",
           "linecolor": "white",
           "ticks": "",
           "title": {
            "standoff": 15
           },
           "zerolinecolor": "white",
           "automargin": true,
           "zerolinewidth": 2
          },
          "yaxis": {
           "gridcolor": "white",
           "linecolor": "white",
           "ticks": "",
           "title": {
            "standoff": 15
           },
           "zerolinecolor": "white",
           "automargin": true,
           "zerolinewidth": 2
          },
          "scene": {
           "xaxis": {
            "backgroundcolor": "#E5ECF6",
            "gridcolor": "white",
            "linecolor": "white",
            "showbackground": true,
            "ticks": "",
            "zerolinecolor": "white",
            "gridwidth": 2
           },
           "yaxis": {
            "backgroundcolor": "#E5ECF6",
            "gridcolor": "white",
            "linecolor": "white",
            "showbackground": true,
            "ticks": "",
            "zerolinecolor": "white",
            "gridwidth": 2
           },
           "zaxis": {
            "backgroundcolor": "#E5ECF6",
            "gridcolor": "white",
            "linecolor": "white",
            "showbackground": true,
            "ticks": "",
            "zerolinecolor": "white",
            "gridwidth": 2
           }
          },
          "shapedefaults": {
           "line": {
            "color": "#2a3f5f"
           }
          },
          "annotationdefaults": {
           "arrowcolor": "#2a3f5f",
           "arrowhead": 0,
           "arrowwidth": 1
          },
          "geo": {
           "bgcolor": "white",
           "landcolor": "#E5ECF6",
           "subunitcolor": "white",
           "showland": true,
           "showlakes": true,
           "lakecolor": "white"
          },
          "title": {
           "x": 0.05
          },
          "mapbox": {
           "style": "light"
          }
         }
        },
        "xaxis": {
         "anchor": "y",
         "domain": [
          0.0,
          1.0
         ],
         "title": {
          "text": "Country/Territory"
         },
         "categoryorder": "array",
         "categoryarray": [
          "China",
          "India",
          "United States",
          "Indonesia",
          "Pakistan",
          "Nigeria",
          "Brazil",
          "Bangladesh",
          "Russia",
          "Mexico",
          "Japan",
          "Ethiopia",
          "Philippines",
          "Egypt",
          "DR Congo",
          "Vietnam",
          "Iran",
          "Turkey",
          "Germany",
          "Thailand",
          "United Kingdom",
          "Tanzania",
          "France",
          "South Africa",
          "Italy",
          "Myanmar",
          "Kenya",
          "Colombia",
          "South Korea",
          "Spain",
          "Uganda",
          "Sudan",
          "Argentina",
          "Algeria",
          "Iraq",
          "Afghanistan",
          "Poland",
          "Ukraine",
          "Canada",
          "Morocco",
          "Saudi Arabia",
          "Angola",
          "Uzbekistan",
          "Peru",
          "Malaysia",
          "Yemen",
          "Ghana",
          "Mozambique",
          "Nepal",
          "Madagascar",
          "Venezuela",
          "Ivory Coast",
          "Cameroon",
          "Niger",
          "Australia",
          "North Korea",
          "Taiwan",
          "Burkina Faso",
          "Mali",
          "Syria",
          "Sri Lanka",
          "Malawi",
          "Zambia",
          "Romania",
          "Chile",
          "Kazakhstan",
          "Ecuador",
          "Guatemala",
          "Chad",
          "Somalia",
          "Netherlands",
          "Senegal",
          "Cambodia",
          "Zimbabwe",
          "Guinea",
          "Rwanda",
          "Benin",
          "Burundi",
          "Tunisia",
          "Bolivia",
          "Belgium",
          "Haiti",
          "Jordan",
          "Dominican Republic",
          "Cuba",
          "South Sudan",
          "Sweden",
          "Czech Republic",
          "Honduras",
          "Greece",
          "Azerbaijan",
          "Portugal",
          "Papua New Guinea",
          "Hungary",
          "Tajikistan",
          "Belarus",
          "United Arab Emirates",
          "Israel",
          "Austria",
          "Togo",
          "Switzerland",
          "Sierra Leone",
          "Laos",
          "Hong Kong",
          "Serbia",
          "Nicaragua",
          "Libya",
          "Bulgaria",
          "Paraguay",
          "Kyrgyzstan",
          "Turkmenistan",
          "El Salvador",
          "Singapore",
          "Republic of the Congo",
          "Denmark",
          "Slovakia",
          "Central African Republic",
          "Finland",
          "Lebanon",
          "Norway",
          "Liberia",
          "Palestine",
          "New Zealand",
          "Costa Rica",
          "Ireland",
          "Mauritania",
          "Oman",
          "Panama",
          "Kuwait",
          "Croatia",
          "Georgia",
          "Eritrea",
          "Uruguay",
          "Mongolia",
          "Moldova",
          "Puerto Rico",
          "Bosnia and Herzegovina",
          "Albania",
          "Jamaica",
          "Armenia",
          "Lithuania",
          "Gambia",
          "Qatar",
          "Botswana",
          "Namibia",
          "Gabon",
          "Lesotho",
          "Slovenia",
          "Guinea-Bissau",
          "North Macedonia",
          "Latvia",
          "Equatorial Guinea",
          "Trinidad and Tobago",
          "Bahrain",
          "Timor-Leste",
          "Estonia",
          "Mauritius",
          "Cyprus",
          "Eswatini",
          "Djibouti",
          "Reunion",
          "Fiji",
          "Comoros",
          "Guyana",
          "Bhutan",
          "Solomon Islands",
          "Macau",
          "Luxembourg",
          "Montenegro",
          "Suriname",
          "Cape Verde",
          "Western Sahara",
          "Malta",
          "Maldives",
          "Brunei",
          "Bahamas",
          "Belize",
          "Guadeloupe",
          "Iceland",
          "Martinique",
          "Vanuatu",
          "Mayotte",
          "French Polynesia",
          "French Guiana",
          "New Caledonia",
          "Barbados",
          "Sao Tome and Principe",
          "Samoa",
          "Curacao",
          "Saint Lucia",
          "Guam",
          "Kiribati",
          "Grenada",
          "Micronesia",
          "Jersey",
          "Seychelles",
          "Tonga",
          "Aruba",
          "Saint Vincent and the Grenadines",
          "United States Virgin Islands",
          "Antigua and Barbuda",
          "Isle of Man",
          "Andorra",
          "Dominica",
          "Cayman Islands",
          "Bermuda",
          "Guernsey",
          "Greenland",
          "Faroe Islands",
          "Northern Mariana Islands",
          "Saint Kitts and Nevis",
          "Turks and Caicos Islands",
          "American Samoa",
          "Sint Maarten",
          "Marshall Islands",
          "Liechtenstein",
          "Monaco",
          "San Marino",
          "Gibraltar",
          "Saint Martin",
          "British Virgin Islands",
          "Palau",
          "Cook Islands",
          "Anguilla",
          "Nauru",
          "Wallis and Futuna",
          "Tuvalu",
          "Saint Barthelemy",
          "Saint Pierre and Miquelon",
          "Montserrat",
          "Falkland Islands",
          "Niue",
          "Tokelau",
          "Vatican City"
         ]
        },
        "yaxis": {
         "anchor": "x",
         "domain": [
          0.0,
          1.0
         ],
         "title": {
          "text": "2022 Population"
         }
        },
        "legend": {
         "title": {
          "text": "Continent"
         },
         "tracegroupgap": 0,
         "itemsizing": "constant"
        },
        "margin": {
         "t": 60
        }
       },
       "config": {
        "plotlyServerURL": "https://plot.ly"
       }
      }
     },
     "metadata": {},
     "output_type": "display_data"
    }
   ],
   "execution_count": 8
  },
  {
   "metadata": {
    "ExecuteTime": {
     "end_time": "2025-10-16T11:10:44.954690Z",
     "start_time": "2025-10-16T11:10:44.845758Z"
    }
   },
   "cell_type": "code",
   "source": [
    "px.treemap(\n",
    "    df,\n",
    "    path=[px.Constant('World'), 'Continent', 'Country/Territory'],\n",
    "    values=\"2022 Population\",\n",
    "    title=\"Population by Continent\",\n",
    ")"
   ],
   "id": "349e84b23d0b5e50",
   "outputs": [
    {
     "data": {
      "application/vnd.plotly.v1+json": {
       "data": [
        {
         "branchvalues": "total",
         "domain": {
          "x": [
           0.0,
           1.0
          ],
          "y": [
           0.0,
           1.0
          ]
         },
         "hovertemplate": "labels=%{label}<br>2022 Population=%{value}<br>parent=%{parent}<br>id=%{id}<extra></extra>",
         "ids": [
          "World/Asia/Afghanistan",
          "World/Europe/Albania",
          "World/Africa/Algeria",
          "World/Oceania/American Samoa",
          "World/Europe/Andorra",
          "World/Africa/Angola",
          "World/North America/Anguilla",
          "World/North America/Antigua and Barbuda",
          "World/South America/Argentina",
          "World/Asia/Armenia",
          "World/North America/Aruba",
          "World/Oceania/Australia",
          "World/Europe/Austria",
          "World/Asia/Azerbaijan",
          "World/North America/Bahamas",
          "World/Asia/Bahrain",
          "World/Asia/Bangladesh",
          "World/North America/Barbados",
          "World/Europe/Belarus",
          "World/Europe/Belgium",
          "World/North America/Belize",
          "World/Africa/Benin",
          "World/North America/Bermuda",
          "World/Asia/Bhutan",
          "World/South America/Bolivia",
          "World/Europe/Bosnia and Herzegovina",
          "World/Africa/Botswana",
          "World/South America/Brazil",
          "World/North America/British Virgin Islands",
          "World/Asia/Brunei",
          "World/Europe/Bulgaria",
          "World/Africa/Burkina Faso",
          "World/Africa/Burundi",
          "World/Asia/Cambodia",
          "World/Africa/Cameroon",
          "World/North America/Canada",
          "World/Africa/Cape Verde",
          "World/North America/Cayman Islands",
          "World/Africa/Central African Republic",
          "World/Africa/Chad",
          "World/South America/Chile",
          "World/Asia/China",
          "World/South America/Colombia",
          "World/Africa/Comoros",
          "World/Oceania/Cook Islands",
          "World/North America/Costa Rica",
          "World/Europe/Croatia",
          "World/North America/Cuba",
          "World/North America/Curacao",
          "World/Europe/Cyprus",
          "World/Europe/Czech Republic",
          "World/Europe/Denmark",
          "World/Africa/Djibouti",
          "World/North America/Dominica",
          "World/North America/Dominican Republic",
          "World/Africa/DR Congo",
          "World/South America/Ecuador",
          "World/Africa/Egypt",
          "World/North America/El Salvador",
          "World/Africa/Equatorial Guinea",
          "World/Africa/Eritrea",
          "World/Europe/Estonia",
          "World/Africa/Eswatini",
          "World/Africa/Ethiopia",
          "World/South America/Falkland Islands",
          "World/Europe/Faroe Islands",
          "World/Oceania/Fiji",
          "World/Europe/Finland",
          "World/Europe/France",
          "World/South America/French Guiana",
          "World/Oceania/French Polynesia",
          "World/Africa/Gabon",
          "World/Africa/Gambia",
          "World/Asia/Georgia",
          "World/Europe/Germany",
          "World/Africa/Ghana",
          "World/Europe/Gibraltar",
          "World/Europe/Greece",
          "World/North America/Greenland",
          "World/North America/Grenada",
          "World/North America/Guadeloupe",
          "World/Oceania/Guam",
          "World/North America/Guatemala",
          "World/Europe/Guernsey",
          "World/Africa/Guinea",
          "World/Africa/Guinea-Bissau",
          "World/South America/Guyana",
          "World/North America/Haiti",
          "World/North America/Honduras",
          "World/Asia/Hong Kong",
          "World/Europe/Hungary",
          "World/Europe/Iceland",
          "World/Asia/India",
          "World/Asia/Indonesia",
          "World/Asia/Iran",
          "World/Asia/Iraq",
          "World/Europe/Ireland",
          "World/Europe/Isle of Man",
          "World/Asia/Israel",
          "World/Europe/Italy",
          "World/Africa/Ivory Coast",
          "World/North America/Jamaica",
          "World/Asia/Japan",
          "World/Europe/Jersey",
          "World/Asia/Jordan",
          "World/Asia/Kazakhstan",
          "World/Africa/Kenya",
          "World/Oceania/Kiribati",
          "World/Asia/Kuwait",
          "World/Asia/Kyrgyzstan",
          "World/Asia/Laos",
          "World/Europe/Latvia",
          "World/Asia/Lebanon",
          "World/Africa/Lesotho",
          "World/Africa/Liberia",
          "World/Africa/Libya",
          "World/Europe/Liechtenstein",
          "World/Europe/Lithuania",
          "World/Europe/Luxembourg",
          "World/Asia/Macau",
          "World/Africa/Madagascar",
          "World/Africa/Malawi",
          "World/Asia/Malaysia",
          "World/Asia/Maldives",
          "World/Africa/Mali",
          "World/Europe/Malta",
          "World/Oceania/Marshall Islands",
          "World/North America/Martinique",
          "World/Africa/Mauritania",
          "World/Africa/Mauritius",
          "World/Africa/Mayotte",
          "World/North America/Mexico",
          "World/Oceania/Micronesia",
          "World/Europe/Moldova",
          "World/Europe/Monaco",
          "World/Asia/Mongolia",
          "World/Europe/Montenegro",
          "World/North America/Montserrat",
          "World/Africa/Morocco",
          "World/Africa/Mozambique",
          "World/Asia/Myanmar",
          "World/Africa/Namibia",
          "World/Oceania/Nauru",
          "World/Asia/Nepal",
          "World/Europe/Netherlands",
          "World/Oceania/New Caledonia",
          "World/Oceania/New Zealand",
          "World/North America/Nicaragua",
          "World/Africa/Niger",
          "World/Africa/Nigeria",
          "World/Oceania/Niue",
          "World/Asia/North Korea",
          "World/Europe/North Macedonia",
          "World/Oceania/Northern Mariana Islands",
          "World/Europe/Norway",
          "World/Asia/Oman",
          "World/Asia/Pakistan",
          "World/Oceania/Palau",
          "World/Asia/Palestine",
          "World/North America/Panama",
          "World/Oceania/Papua New Guinea",
          "World/South America/Paraguay",
          "World/South America/Peru",
          "World/Asia/Philippines",
          "World/Europe/Poland",
          "World/Europe/Portugal",
          "World/North America/Puerto Rico",
          "World/Asia/Qatar",
          "World/Africa/Republic of the Congo",
          "World/Africa/Reunion",
          "World/Europe/Romania",
          "World/Europe/Russia",
          "World/Africa/Rwanda",
          "World/North America/Saint Barthelemy",
          "World/North America/Saint Kitts and Nevis",
          "World/North America/Saint Lucia",
          "World/North America/Saint Martin",
          "World/North America/Saint Pierre and Miquelon",
          "World/North America/Saint Vincent and the Grenadines",
          "World/Oceania/Samoa",
          "World/Europe/San Marino",
          "World/Africa/Sao Tome and Principe",
          "World/Asia/Saudi Arabia",
          "World/Africa/Senegal",
          "World/Europe/Serbia",
          "World/Africa/Seychelles",
          "World/Africa/Sierra Leone",
          "World/Asia/Singapore",
          "World/North America/Sint Maarten",
          "World/Europe/Slovakia",
          "World/Europe/Slovenia",
          "World/Oceania/Solomon Islands",
          "World/Africa/Somalia",
          "World/Africa/South Africa",
          "World/Asia/South Korea",
          "World/Africa/South Sudan",
          "World/Europe/Spain",
          "World/Asia/Sri Lanka",
          "World/Africa/Sudan",
          "World/South America/Suriname",
          "World/Europe/Sweden",
          "World/Europe/Switzerland",
          "World/Asia/Syria",
          "World/Asia/Taiwan",
          "World/Asia/Tajikistan",
          "World/Africa/Tanzania",
          "World/Asia/Thailand",
          "World/Asia/Timor-Leste",
          "World/Africa/Togo",
          "World/Oceania/Tokelau",
          "World/Oceania/Tonga",
          "World/North America/Trinidad and Tobago",
          "World/Africa/Tunisia",
          "World/Asia/Turkey",
          "World/Asia/Turkmenistan",
          "World/North America/Turks and Caicos Islands",
          "World/Oceania/Tuvalu",
          "World/Africa/Uganda",
          "World/Europe/Ukraine",
          "World/Asia/United Arab Emirates",
          "World/Europe/United Kingdom",
          "World/North America/United States",
          "World/North America/United States Virgin Islands",
          "World/South America/Uruguay",
          "World/Asia/Uzbekistan",
          "World/Oceania/Vanuatu",
          "World/Europe/Vatican City",
          "World/South America/Venezuela",
          "World/Asia/Vietnam",
          "World/Oceania/Wallis and Futuna",
          "World/Africa/Western Sahara",
          "World/Asia/Yemen",
          "World/Africa/Zambia",
          "World/Africa/Zimbabwe",
          "World/Asia",
          "World/Europe",
          "World/Africa",
          "World/Oceania",
          "World/North America",
          "World/South America",
          "World"
         ],
         "labels": [
          "Afghanistan",
          "Albania",
          "Algeria",
          "American Samoa",
          "Andorra",
          "Angola",
          "Anguilla",
          "Antigua and Barbuda",
          "Argentina",
          "Armenia",
          "Aruba",
          "Australia",
          "Austria",
          "Azerbaijan",
          "Bahamas",
          "Bahrain",
          "Bangladesh",
          "Barbados",
          "Belarus",
          "Belgium",
          "Belize",
          "Benin",
          "Bermuda",
          "Bhutan",
          "Bolivia",
          "Bosnia and Herzegovina",
          "Botswana",
          "Brazil",
          "British Virgin Islands",
          "Brunei",
          "Bulgaria",
          "Burkina Faso",
          "Burundi",
          "Cambodia",
          "Cameroon",
          "Canada",
          "Cape Verde",
          "Cayman Islands",
          "Central African Republic",
          "Chad",
          "Chile",
          "China",
          "Colombia",
          "Comoros",
          "Cook Islands",
          "Costa Rica",
          "Croatia",
          "Cuba",
          "Curacao",
          "Cyprus",
          "Czech Republic",
          "Denmark",
          "Djibouti",
          "Dominica",
          "Dominican Republic",
          "DR Congo",
          "Ecuador",
          "Egypt",
          "El Salvador",
          "Equatorial Guinea",
          "Eritrea",
          "Estonia",
          "Eswatini",
          "Ethiopia",
          "Falkland Islands",
          "Faroe Islands",
          "Fiji",
          "Finland",
          "France",
          "French Guiana",
          "French Polynesia",
          "Gabon",
          "Gambia",
          "Georgia",
          "Germany",
          "Ghana",
          "Gibraltar",
          "Greece",
          "Greenland",
          "Grenada",
          "Guadeloupe",
          "Guam",
          "Guatemala",
          "Guernsey",
          "Guinea",
          "Guinea-Bissau",
          "Guyana",
          "Haiti",
          "Honduras",
          "Hong Kong",
          "Hungary",
          "Iceland",
          "India",
          "Indonesia",
          "Iran",
          "Iraq",
          "Ireland",
          "Isle of Man",
          "Israel",
          "Italy",
          "Ivory Coast",
          "Jamaica",
          "Japan",
          "Jersey",
          "Jordan",
          "Kazakhstan",
          "Kenya",
          "Kiribati",
          "Kuwait",
          "Kyrgyzstan",
          "Laos",
          "Latvia",
          "Lebanon",
          "Lesotho",
          "Liberia",
          "Libya",
          "Liechtenstein",
          "Lithuania",
          "Luxembourg",
          "Macau",
          "Madagascar",
          "Malawi",
          "Malaysia",
          "Maldives",
          "Mali",
          "Malta",
          "Marshall Islands",
          "Martinique",
          "Mauritania",
          "Mauritius",
          "Mayotte",
          "Mexico",
          "Micronesia",
          "Moldova",
          "Monaco",
          "Mongolia",
          "Montenegro",
          "Montserrat",
          "Morocco",
          "Mozambique",
          "Myanmar",
          "Namibia",
          "Nauru",
          "Nepal",
          "Netherlands",
          "New Caledonia",
          "New Zealand",
          "Nicaragua",
          "Niger",
          "Nigeria",
          "Niue",
          "North Korea",
          "North Macedonia",
          "Northern Mariana Islands",
          "Norway",
          "Oman",
          "Pakistan",
          "Palau",
          "Palestine",
          "Panama",
          "Papua New Guinea",
          "Paraguay",
          "Peru",
          "Philippines",
          "Poland",
          "Portugal",
          "Puerto Rico",
          "Qatar",
          "Republic of the Congo",
          "Reunion",
          "Romania",
          "Russia",
          "Rwanda",
          "Saint Barthelemy",
          "Saint Kitts and Nevis",
          "Saint Lucia",
          "Saint Martin",
          "Saint Pierre and Miquelon",
          "Saint Vincent and the Grenadines",
          "Samoa",
          "San Marino",
          "Sao Tome and Principe",
          "Saudi Arabia",
          "Senegal",
          "Serbia",
          "Seychelles",
          "Sierra Leone",
          "Singapore",
          "Sint Maarten",
          "Slovakia",
          "Slovenia",
          "Solomon Islands",
          "Somalia",
          "South Africa",
          "South Korea",
          "South Sudan",
          "Spain",
          "Sri Lanka",
          "Sudan",
          "Suriname",
          "Sweden",
          "Switzerland",
          "Syria",
          "Taiwan",
          "Tajikistan",
          "Tanzania",
          "Thailand",
          "Timor-Leste",
          "Togo",
          "Tokelau",
          "Tonga",
          "Trinidad and Tobago",
          "Tunisia",
          "Turkey",
          "Turkmenistan",
          "Turks and Caicos Islands",
          "Tuvalu",
          "Uganda",
          "Ukraine",
          "United Arab Emirates",
          "United Kingdom",
          "United States",
          "United States Virgin Islands",
          "Uruguay",
          "Uzbekistan",
          "Vanuatu",
          "Vatican City",
          "Venezuela",
          "Vietnam",
          "Wallis and Futuna",
          "Western Sahara",
          "Yemen",
          "Zambia",
          "Zimbabwe",
          "Asia",
          "Europe",
          "Africa",
          "Oceania",
          "North America",
          "South America",
          "World"
         ],
         "name": "",
         "parents": [
          "World/Asia",
          "World/Europe",
          "World/Africa",
          "World/Oceania",
          "World/Europe",
          "World/Africa",
          "World/North America",
          "World/North America",
          "World/South America",
          "World/Asia",
          "World/North America",
          "World/Oceania",
          "World/Europe",
          "World/Asia",
          "World/North America",
          "World/Asia",
          "World/Asia",
          "World/North America",
          "World/Europe",
          "World/Europe",
          "World/North America",
          "World/Africa",
          "World/North America",
          "World/Asia",
          "World/South America",
          "World/Europe",
          "World/Africa",
          "World/South America",
          "World/North America",
          "World/Asia",
          "World/Europe",
          "World/Africa",
          "World/Africa",
          "World/Asia",
          "World/Africa",
          "World/North America",
          "World/Africa",
          "World/North America",
          "World/Africa",
          "World/Africa",
          "World/South America",
          "World/Asia",
          "World/South America",
          "World/Africa",
          "World/Oceania",
          "World/North America",
          "World/Europe",
          "World/North America",
          "World/North America",
          "World/Europe",
          "World/Europe",
          "World/Europe",
          "World/Africa",
          "World/North America",
          "World/North America",
          "World/Africa",
          "World/South America",
          "World/Africa",
          "World/North America",
          "World/Africa",
          "World/Africa",
          "World/Europe",
          "World/Africa",
          "World/Africa",
          "World/South America",
          "World/Europe",
          "World/Oceania",
          "World/Europe",
          "World/Europe",
          "World/South America",
          "World/Oceania",
          "World/Africa",
          "World/Africa",
          "World/Asia",
          "World/Europe",
          "World/Africa",
          "World/Europe",
          "World/Europe",
          "World/North America",
          "World/North America",
          "World/North America",
          "World/Oceania",
          "World/North America",
          "World/Europe",
          "World/Africa",
          "World/Africa",
          "World/South America",
          "World/North America",
          "World/North America",
          "World/Asia",
          "World/Europe",
          "World/Europe",
          "World/Asia",
          "World/Asia",
          "World/Asia",
          "World/Asia",
          "World/Europe",
          "World/Europe",
          "World/Asia",
          "World/Europe",
          "World/Africa",
          "World/North America",
          "World/Asia",
          "World/Europe",
          "World/Asia",
          "World/Asia",
          "World/Africa",
          "World/Oceania",
          "World/Asia",
          "World/Asia",
          "World/Asia",
          "World/Europe",
          "World/Asia",
          "World/Africa",
          "World/Africa",
          "World/Africa",
          "World/Europe",
          "World/Europe",
          "World/Europe",
          "World/Asia",
          "World/Africa",
          "World/Africa",
          "World/Asia",
          "World/Asia",
          "World/Africa",
          "World/Europe",
          "World/Oceania",
          "World/North America",
          "World/Africa",
          "World/Africa",
          "World/Africa",
          "World/North America",
          "World/Oceania",
          "World/Europe",
          "World/Europe",
          "World/Asia",
          "World/Europe",
          "World/North America",
          "World/Africa",
          "World/Africa",
          "World/Asia",
          "World/Africa",
          "World/Oceania",
          "World/Asia",
          "World/Europe",
          "World/Oceania",
          "World/Oceania",
          "World/North America",
          "World/Africa",
          "World/Africa",
          "World/Oceania",
          "World/Asia",
          "World/Europe",
          "World/Oceania",
          "World/Europe",
          "World/Asia",
          "World/Asia",
          "World/Oceania",
          "World/Asia",
          "World/North America",
          "World/Oceania",
          "World/South America",
          "World/South America",
          "World/Asia",
          "World/Europe",
          "World/Europe",
          "World/North America",
          "World/Asia",
          "World/Africa",
          "World/Africa",
          "World/Europe",
          "World/Europe",
          "World/Africa",
          "World/North America",
          "World/North America",
          "World/North America",
          "World/North America",
          "World/North America",
          "World/North America",
          "World/Oceania",
          "World/Europe",
          "World/Africa",
          "World/Asia",
          "World/Africa",
          "World/Europe",
          "World/Africa",
          "World/Africa",
          "World/Asia",
          "World/North America",
          "World/Europe",
          "World/Europe",
          "World/Oceania",
          "World/Africa",
          "World/Africa",
          "World/Asia",
          "World/Africa",
          "World/Europe",
          "World/Asia",
          "World/Africa",
          "World/South America",
          "World/Europe",
          "World/Europe",
          "World/Asia",
          "World/Asia",
          "World/Asia",
          "World/Africa",
          "World/Asia",
          "World/Asia",
          "World/Africa",
          "World/Oceania",
          "World/Oceania",
          "World/North America",
          "World/Africa",
          "World/Asia",
          "World/Asia",
          "World/North America",
          "World/Oceania",
          "World/Africa",
          "World/Europe",
          "World/Asia",
          "World/Europe",
          "World/North America",
          "World/North America",
          "World/South America",
          "World/Asia",
          "World/Oceania",
          "World/Europe",
          "World/South America",
          "World/Asia",
          "World/Oceania",
          "World/Africa",
          "World/Asia",
          "World/Africa",
          "World/Africa",
          "World",
          "World",
          "World",
          "World",
          "World",
          "World",
          ""
         ],
         "values": {
          "dtype": "f8",
          "bdata": "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"
         },
         "type": "treemap"
        }
       ],
       "layout": {
        "template": {
         "data": {
          "histogram2dcontour": [
           {
            "type": "histogram2dcontour",
            "colorbar": {
             "outlinewidth": 0,
             "ticks": ""
            },
            "colorscale": [
             [
              0.0,
              "#0d0887"
             ],
             [
              0.1111111111111111,
              "#46039f"
             ],
             [
              0.2222222222222222,
              "#7201a8"
             ],
             [
              0.3333333333333333,
              "#9c179e"
             ],
             [
              0.4444444444444444,
              "#bd3786"
             ],
             [
              0.5555555555555556,
              "#d8576b"
             ],
             [
              0.6666666666666666,
              "#ed7953"
             ],
             [
              0.7777777777777778,
              "#fb9f3a"
             ],
             [
              0.8888888888888888,
              "#fdca26"
             ],
             [
              1.0,
              "#f0f921"
             ]
            ]
           }
          ],
          "choropleth": [
           {
            "type": "choropleth",
            "colorbar": {
             "outlinewidth": 0,
             "ticks": ""
            }
           }
          ],
          "histogram2d": [
           {
            "type": "histogram2d",
            "colorbar": {
             "outlinewidth": 0,
             "ticks": ""
            },
            "colorscale": [
             [
              0.0,
              "#0d0887"
             ],
             [
              0.1111111111111111,
              "#46039f"
             ],
             [
              0.2222222222222222,
              "#7201a8"
             ],
             [
              0.3333333333333333,
              "#9c179e"
             ],
             [
              0.4444444444444444,
              "#bd3786"
             ],
             [
              0.5555555555555556,
              "#d8576b"
             ],
             [
              0.6666666666666666,
              "#ed7953"
             ],
             [
              0.7777777777777778,
              "#fb9f3a"
             ],
             [
              0.8888888888888888,
              "#fdca26"
             ],
             [
              1.0,
              "#f0f921"
             ]
            ]
           }
          ],
          "heatmap": [
           {
            "type": "heatmap",
            "colorbar": {
             "outlinewidth": 0,
             "ticks": ""
            },
            "colorscale": [
             [
              0.0,
              "#0d0887"
             ],
             [
              0.1111111111111111,
              "#46039f"
             ],
             [
              0.2222222222222222,
              "#7201a8"
             ],
             [
              0.3333333333333333,
              "#9c179e"
             ],
             [
              0.4444444444444444,
              "#bd3786"
             ],
             [
              0.5555555555555556,
              "#d8576b"
             ],
             [
              0.6666666666666666,
              "#ed7953"
             ],
             [
              0.7777777777777778,
              "#fb9f3a"
             ],
             [
              0.8888888888888888,
              "#fdca26"
             ],
             [
              1.0,
              "#f0f921"
             ]
            ]
           }
          ],
          "contourcarpet": [
           {
            "type": "contourcarpet",
            "colorbar": {
             "outlinewidth": 0,
             "ticks": ""
            }
           }
          ],
          "contour": [
           {
            "type": "contour",
            "colorbar": {
             "outlinewidth": 0,
             "ticks": ""
            },
            "colorscale": [
             [
              0.0,
              "#0d0887"
             ],
             [
              0.1111111111111111,
              "#46039f"
             ],
             [
              0.2222222222222222,
              "#7201a8"
             ],
             [
              0.3333333333333333,
              "#9c179e"
             ],
             [
              0.4444444444444444,
              "#bd3786"
             ],
             [
              0.5555555555555556,
              "#d8576b"
             ],
             [
              0.6666666666666666,
              "#ed7953"
             ],
             [
              0.7777777777777778,
              "#fb9f3a"
             ],
             [
              0.8888888888888888,
              "#fdca26"
             ],
             [
              1.0,
              "#f0f921"
             ]
            ]
           }
          ],
          "surface": [
           {
            "type": "surface",
            "colorbar": {
             "outlinewidth": 0,
             "ticks": ""
            },
            "colorscale": [
             [
              0.0,
              "#0d0887"
             ],
             [
              0.1111111111111111,
              "#46039f"
             ],
             [
              0.2222222222222222,
              "#7201a8"
             ],
             [
              0.3333333333333333,
              "#9c179e"
             ],
             [
              0.4444444444444444,
              "#bd3786"
             ],
             [
              0.5555555555555556,
              "#d8576b"
             ],
             [
              0.6666666666666666,
              "#ed7953"
             ],
             [
              0.7777777777777778,
              "#fb9f3a"
             ],
             [
              0.8888888888888888,
              "#fdca26"
             ],
             [
              1.0,
              "#f0f921"
             ]
            ]
           }
          ],
          "mesh3d": [
           {
            "type": "mesh3d",
            "colorbar": {
             "outlinewidth": 0,
             "ticks": ""
            }
           }
          ],
          "scatter": [
           {
            "fillpattern": {
             "fillmode": "overlay",
             "size": 10,
             "solidity": 0.2
            },
            "type": "scatter"
           }
          ],
          "parcoords": [
           {
            "type": "parcoords",
            "line": {
             "colorbar": {
              "outlinewidth": 0,
              "ticks": ""
             }
            }
           }
          ],
          "scatterpolargl": [
           {
            "type": "scatterpolargl",
            "marker": {
             "colorbar": {
              "outlinewidth": 0,
              "ticks": ""
             }
            }
           }
          ],
          "bar": [
           {
            "error_x": {
             "color": "#2a3f5f"
            },
            "error_y": {
             "color": "#2a3f5f"
            },
            "marker": {
             "line": {
              "color": "#E5ECF6",
              "width": 0.5
             },
             "pattern": {
              "fillmode": "overlay",
              "size": 10,
              "solidity": 0.2
             }
            },
            "type": "bar"
           }
          ],
          "scattergeo": [
           {
            "type": "scattergeo",
            "marker": {
             "colorbar": {
              "outlinewidth": 0,
              "ticks": ""
             }
            }
           }
          ],
          "scatterpolar": [
           {
            "type": "scatterpolar",
            "marker": {
             "colorbar": {
              "outlinewidth": 0,
              "ticks": ""
             }
            }
           }
          ],
          "histogram": [
           {
            "marker": {
             "pattern": {
              "fillmode": "overlay",
              "size": 10,
              "solidity": 0.2
             }
            },
            "type": "histogram"
           }
          ],
          "scattergl": [
           {
            "type": "scattergl",
            "marker": {
             "colorbar": {
              "outlinewidth": 0,
              "ticks": ""
             }
            }
           }
          ],
          "scatter3d": [
           {
            "type": "scatter3d",
            "line": {
             "colorbar": {
              "outlinewidth": 0,
              "ticks": ""
             }
            },
            "marker": {
             "colorbar": {
              "outlinewidth": 0,
              "ticks": ""
             }
            }
           }
          ],
          "scattermap": [
           {
            "type": "scattermap",
            "marker": {
             "colorbar": {
              "outlinewidth": 0,
              "ticks": ""
             }
            }
           }
          ],
          "scattermapbox": [
           {
            "type": "scattermapbox",
            "marker": {
             "colorbar": {
              "outlinewidth": 0,
              "ticks": ""
             }
            }
           }
          ],
          "scatterternary": [
           {
            "type": "scatterternary",
            "marker": {
             "colorbar": {
              "outlinewidth": 0,
              "ticks": ""
             }
            }
           }
          ],
          "scattercarpet": [
           {
            "type": "scattercarpet",
            "marker": {
             "colorbar": {
              "outlinewidth": 0,
              "ticks": ""
             }
            }
           }
          ],
          "carpet": [
           {
            "aaxis": {
             "endlinecolor": "#2a3f5f",
             "gridcolor": "white",
             "linecolor": "white",
             "minorgridcolor": "white",
             "startlinecolor": "#2a3f5f"
            },
            "baxis": {
             "endlinecolor": "#2a3f5f",
             "gridcolor": "white",
             "linecolor": "white",
             "minorgridcolor": "white",
             "startlinecolor": "#2a3f5f"
            },
            "type": "carpet"
           }
          ],
          "table": [
           {
            "cells": {
             "fill": {
              "color": "#EBF0F8"
             },
             "line": {
              "color": "white"
             }
            },
            "header": {
             "fill": {
              "color": "#C8D4E3"
             },
             "line": {
              "color": "white"
             }
            },
            "type": "table"
           }
          ],
          "barpolar": [
           {
            "marker": {
             "line": {
              "color": "#E5ECF6",
              "width": 0.5
             },
             "pattern": {
              "fillmode": "overlay",
              "size": 10,
              "solidity": 0.2
             }
            },
            "type": "barpolar"
           }
          ],
          "pie": [
           {
            "automargin": true,
            "type": "pie"
           }
          ]
         },
         "layout": {
          "autotypenumbers": "strict",
          "colorway": [
           "#636efa",
           "#EF553B",
           "#00cc96",
           "#ab63fa",
           "#FFA15A",
           "#19d3f3",
           "#FF6692",
           "#B6E880",
           "#FF97FF",
           "#FECB52"
          ],
          "font": {
           "color": "#2a3f5f"
          },
          "hovermode": "closest",
          "hoverlabel": {
           "align": "left"
          },
          "paper_bgcolor": "white",
          "plot_bgcolor": "#E5ECF6",
          "polar": {
           "bgcolor": "#E5ECF6",
           "angularaxis": {
            "gridcolor": "white",
            "linecolor": "white",
            "ticks": ""
           },
           "radialaxis": {
            "gridcolor": "white",
            "linecolor": "white",
            "ticks": ""
           }
          },
          "ternary": {
           "bgcolor": "#E5ECF6",
           "aaxis": {
            "gridcolor": "white",
            "linecolor": "white",
            "ticks": ""
           },
           "baxis": {
            "gridcolor": "white",
            "linecolor": "white",
            "ticks": ""
           },
           "caxis": {
            "gridcolor": "white",
            "linecolor": "white",
            "ticks": ""
           }
          },
          "coloraxis": {
           "colorbar": {
            "outlinewidth": 0,
            "ticks": ""
           }
          },
          "colorscale": {
           "sequential": [
            [
             0.0,
             "#0d0887"
            ],
            [
             0.1111111111111111,
             "#46039f"
            ],
            [
             0.2222222222222222,
             "#7201a8"
            ],
            [
             0.3333333333333333,
             "#9c179e"
            ],
            [
             0.4444444444444444,
             "#bd3786"
            ],
            [
             0.5555555555555556,
             "#d8576b"
            ],
            [
             0.6666666666666666,
             "#ed7953"
            ],
            [
             0.7777777777777778,
             "#fb9f3a"
            ],
            [
             0.8888888888888888,
             "#fdca26"
            ],
            [
             1.0,
             "#f0f921"
            ]
           ],
           "sequentialminus": [
            [
             0.0,
             "#0d0887"
            ],
            [
             0.1111111111111111,
             "#46039f"
            ],
            [
             0.2222222222222222,
             "#7201a8"
            ],
            [
             0.3333333333333333,
             "#9c179e"
            ],
            [
             0.4444444444444444,
             "#bd3786"
            ],
            [
             0.5555555555555556,
             "#d8576b"
            ],
            [
             0.6666666666666666,
             "#ed7953"
            ],
            [
             0.7777777777777778,
             "#fb9f3a"
            ],
            [
             0.8888888888888888,
             "#fdca26"
            ],
            [
             1.0,
             "#f0f921"
            ]
           ],
           "diverging": [
            [
             0,
             "#8e0152"
            ],
            [
             0.1,
             "#c51b7d"
            ],
            [
             0.2,
             "#de77ae"
            ],
            [
             0.3,
             "#f1b6da"
            ],
            [
             0.4,
             "#fde0ef"
            ],
            [
             0.5,
             "#f7f7f7"
            ],
            [
             0.6,
             "#e6f5d0"
            ],
            [
             0.7,
             "#b8e186"
            ],
            [
             0.8,
             "#7fbc41"
            ],
            [
             0.9,
             "#4d9221"
            ],
            [
             1,
             "#276419"
            ]
           ]
          },
          "xaxis": {
           "gridcolor": "white",
           "linecolor": "white",
           "ticks": "",
           "title": {
            "standoff": 15
           },
           "zerolinecolor": "white",
           "automargin": true,
           "zerolinewidth": 2
          },
          "yaxis": {
           "gridcolor": "white",
           "linecolor": "white",
           "ticks": "",
           "title": {
            "standoff": 15
           },
           "zerolinecolor": "white",
           "automargin": true,
           "zerolinewidth": 2
          },
          "scene": {
           "xaxis": {
            "backgroundcolor": "#E5ECF6",
            "gridcolor": "white",
            "linecolor": "white",
            "showbackground": true,
            "ticks": "",
            "zerolinecolor": "white",
            "gridwidth": 2
           },
           "yaxis": {
            "backgroundcolor": "#E5ECF6",
            "gridcolor": "white",
            "linecolor": "white",
            "showbackground": true,
            "ticks": "",
            "zerolinecolor": "white",
            "gridwidth": 2
           },
           "zaxis": {
            "backgroundcolor": "#E5ECF6",
            "gridcolor": "white",
            "linecolor": "white",
            "showbackground": true,
            "ticks": "",
            "zerolinecolor": "white",
            "gridwidth": 2
           }
          },
          "shapedefaults": {
           "line": {
            "color": "#2a3f5f"
           }
          },
          "annotationdefaults": {
           "arrowcolor": "#2a3f5f",
           "arrowhead": 0,
           "arrowwidth": 1
          },
          "geo": {
           "bgcolor": "white",
           "landcolor": "#E5ECF6",
           "subunitcolor": "white",
           "showland": true,
           "showlakes": true,
           "lakecolor": "white"
          },
          "title": {
           "x": 0.05
          },
          "mapbox": {
           "style": "light"
          }
         }
        },
        "legend": {
         "tracegroupgap": 0
        },
        "title": {
         "text": "Population by Continent"
        }
       },
       "config": {
        "plotlyServerURL": "https://plot.ly"
       }
      }
     },
     "metadata": {},
     "output_type": "display_data"
    }
   ],
   "execution_count": 11
  },
  {
   "metadata": {},
   "cell_type": "code",
   "outputs": [],
   "execution_count": null,
   "source": "",
   "id": "5b94583bd8b36c9c"
  }
 ],
 "metadata": {
  "kernelspec": {
   "display_name": "Python 3",
   "language": "python",
   "name": "python3"
  },
  "language_info": {
   "codemirror_mode": {
    "name": "ipython",
    "version": 2
   },
   "file_extension": ".py",
   "mimetype": "text/x-python",
   "name": "python",
   "nbconvert_exporter": "python",
   "pygments_lexer": "ipython2",
   "version": "2.7.6"
  }
 },
 "nbformat": 4,
 "nbformat_minor": 5
}
