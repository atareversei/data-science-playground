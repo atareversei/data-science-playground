{
 "cells": [
  {
   "metadata": {},
   "cell_type": "markdown",
   "source": [
    "# Naive Bayes from Scratch – Dummy Implementation\n",
    "\n",
    "This notebook demonstrates a **Naive Bayes classifier built completely from scratch** using only NumPy. Instead of working with a real-world dataset, we use a **simplified, synthetic example** to focus purely on the core logic of the algorithm.\n",
    "\n",
    "The goal is to **demystify the mechanics of Naive Bayes**, walking step-by-step through how probabilities are calculated and predictions are made without relying on external machine learning libraries.\n",
    "\n",
    "**Key Steps:**\n",
    "\n",
    "1. Creating a small dummy dataset\n",
    "2. Calculating **prior probabilities** for each class\n",
    "3. Estimating **likelihoods** for each feature given the class\n",
    "4. Applying **Bayes' Theorem** to compute posterior probabilities\n",
    "5. Making predictions and verifying results manually\n",
    "6. Comparing results with `sklearn` for validation\n",
    "\n"
   ],
   "id": "9e8aa37df0d71351"
  },
  {
   "cell_type": "code",
   "id": "initial_id",
   "metadata": {
    "collapsed": true,
    "ExecuteTime": {
     "end_time": "2025-09-24T13:18:58.284967Z",
     "start_time": "2025-09-24T13:18:58.282286Z"
    }
   },
   "source": "import numpy as np",
   "outputs": [],
   "execution_count": 52
  },
  {
   "metadata": {
    "ExecuteTime": {
     "end_time": "2025-09-24T13:18:58.309571Z",
     "start_time": "2025-09-24T13:18:58.302314Z"
    }
   },
   "cell_type": "code",
   "source": [
    "class GaussianNaiveBayes:\n",
    "    def __init__(self):\n",
    "        self._prior = None\n",
    "        self._variance = None\n",
    "        self._mean = None\n",
    "        self._classes = None\n",
    "\n",
    "    def fit(self, x, y):\n",
    "        n_sample, n_feature = x.shape\n",
    "        self._classes = np.unique(y)\n",
    "        n_classes = len(self._classes)\n",
    "        self._mean = np.zeros((n_classes, n_feature), dtype=np.float32)\n",
    "        self._variance = np.zeros((n_classes, n_feature), dtype=np.float32)\n",
    "        self._prior = np.zeros(n_classes, dtype=np.float32)\n",
    "        \n",
    "        for i, c in enumerate(self._classes):\n",
    "            x_for_class_c = x[y == c]\n",
    "            self._mean[i, :] = np.mean(x_for_class_c, axis=0)\n",
    "            self._variance[i, :] = np.var(x_for_class_c, axis=0)\n",
    "            self._prior[i] = x_for_class_c.shape[0] / float(n_sample)\n",
    "    \n",
    "    def likelihood(self, class_idx, x):\n",
    "        mean = self._mean[class_idx]\n",
    "        variance = self._variance[class_idx]\n",
    "        \n",
    "        num = np.exp(-(x - mean) ** 2 / (2 * variance))\n",
    "        denom = np.sqrt(2 * np.pi * variance)\n",
    "        return num / denom\n",
    "    \n",
    "    def predict(self, x):\n",
    "        y_pred = [self._classify_sample(sample) for sample in x]\n",
    "        return np.array(y_pred)\n",
    "    \n",
    "    def _classify_sample(self, x):\n",
    "        posteriors = []\n",
    "        for i, c in enumerate(self._classes):\n",
    "            prior = np.log(self._prior[i])\n",
    "            post = np.sum(np.log(self.likelihood(i, x)))\n",
    "            posterior = prior + post\n",
    "            posteriors.append(posterior)\n",
    "            \n",
    "        return self._classes[np.argmax(posteriors)]\n",
    "        "
   ],
   "id": "462b7a0ac05742",
   "outputs": [],
   "execution_count": 53
  },
  {
   "metadata": {
    "ExecuteTime": {
     "end_time": "2025-09-24T13:18:58.330749Z",
     "start_time": "2025-09-24T13:18:58.327988Z"
    }
   },
   "cell_type": "code",
   "source": [
    "from sklearn.datasets import make_classification\n",
    "from sklearn.model_selection import train_test_split\n",
    "from sklearn.metrics import accuracy_score\n",
    "from sklearn.naive_bayes import GaussianNB\n",
    "import time"
   ],
   "id": "4bc9fe0ce3bed302",
   "outputs": [],
   "execution_count": 54
  },
  {
   "metadata": {
    "ExecuteTime": {
     "end_time": "2025-09-24T13:18:59.131508Z",
     "start_time": "2025-09-24T13:18:58.350379Z"
    }
   },
   "cell_type": "code",
   "source": [
    "# synthesizing data\n",
    "x, y = make_classification(n_samples=500000, n_features=20, n_classes=2, random_state=42)\n",
    "x_train, x_test, y_train, y_test = train_test_split(x, y, test_size=0.25, random_state=42)"
   ],
   "id": "9db4a14ce26f0697",
   "outputs": [],
   "execution_count": 55
  },
  {
   "metadata": {
    "ExecuteTime": {
     "end_time": "2025-09-24T13:19:02.689856Z",
     "start_time": "2025-09-24T13:18:59.146973Z"
    }
   },
   "cell_type": "code",
   "source": [
    "start = time.perf_counter() \n",
    "gnb = GaussianNaiveBayes()\n",
    "gnb.fit(x, y)\n",
    "y_pred = gnb.predict(x_test)\n",
    "accuracy = accuracy_score(y_test, y_pred)\n",
    "end = time.perf_counter()\n",
    "print(f'time to predict: {end - start}')\n",
    "print(f'accuracy: {accuracy}')"
   ],
   "id": "f58eda43be814be3",
   "outputs": [
    {
     "name": "stdout",
     "output_type": "stream",
     "text": [
      "time to predict: 3.5389241999946535\n",
      "accuracy: 0.877328\n"
     ]
    }
   ],
   "execution_count": 56
  },
  {
   "metadata": {
    "ExecuteTime": {
     "end_time": "2025-09-24T13:19:02.992696Z",
     "start_time": "2025-09-24T13:19:02.787803Z"
    }
   },
   "cell_type": "code",
   "source": [
    "start = time.perf_counter()\n",
    "gnb_std = GaussianNB()\n",
    "gnb_std.fit(x, y)\n",
    "y_pred_std = gnb_std.predict(x_test)\n",
    "accuracy_std = accuracy_score(y_test, y_pred_std)\n",
    "end = time.perf_counter()\n",
    "print(f'time to predict: {end - start}')\n",
    "print(f'accuracy: {accuracy_std}')"
   ],
   "id": "a7110022fdbc162f",
   "outputs": [
    {
     "name": "stdout",
     "output_type": "stream",
     "text": [
      "time to predict: 0.20145789999514818\n",
      "accuracy: 0.877328\n"
     ]
    }
   ],
   "execution_count": 57
  }
 ],
 "metadata": {
  "kernelspec": {
   "display_name": "Python 3",
   "language": "python",
   "name": "python3"
  },
  "language_info": {
   "codemirror_mode": {
    "name": "ipython",
    "version": 2
   },
   "file_extension": ".py",
   "mimetype": "text/x-python",
   "name": "python",
   "nbconvert_exporter": "python",
   "pygments_lexer": "ipython2",
   "version": "2.7.6"
  }
 },
 "nbformat": 4,
 "nbformat_minor": 5
}
