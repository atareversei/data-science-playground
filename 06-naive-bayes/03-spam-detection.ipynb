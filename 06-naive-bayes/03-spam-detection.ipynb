{
 "cells": [
  {
   "metadata": {
    "collapsed": true,
    "ExecuteTime": {
     "end_time": "2025-09-24T13:37:43.904924Z",
     "start_time": "2025-09-24T13:37:43.901463Z"
    }
   },
   "cell_type": "code",
   "source": [
    "import pandas as pd\n",
    "from sklearn.feature_extraction.text import CountVectorizer\n",
    "from sklearn.model_selection import train_test_split\n",
    "from sklearn.naive_bayes import MultinomialNB, GaussianNB\n",
    "from sklearn.metrics import accuracy_score"
   ],
   "id": "initial_id",
   "outputs": [],
   "execution_count": 27
  },
  {
   "metadata": {
    "ExecuteTime": {
     "end_time": "2025-09-24T13:37:43.947059Z",
     "start_time": "2025-09-24T13:37:43.929899Z"
    }
   },
   "cell_type": "code",
   "source": [
    "df = pd.read_csv('../data/spam.csv')\n",
    "df.head()"
   ],
   "id": "2c09a7f3fe8fe32a",
   "outputs": [
    {
     "data": {
      "text/plain": [
       "  Category                                            Message\n",
       "0      ham  Go until jurong point, crazy.. Available only ...\n",
       "1      ham                      Ok lar... Joking wif u oni...\n",
       "2     spam  Free entry in 2 a wkly comp to win FA Cup fina...\n",
       "3      ham  U dun say so early hor... U c already then say...\n",
       "4      ham  Nah I don't think he goes to usf, he lives aro..."
      ],
      "text/html": [
       "<div>\n",
       "<style scoped>\n",
       "    .dataframe tbody tr th:only-of-type {\n",
       "        vertical-align: middle;\n",
       "    }\n",
       "\n",
       "    .dataframe tbody tr th {\n",
       "        vertical-align: top;\n",
       "    }\n",
       "\n",
       "    .dataframe thead th {\n",
       "        text-align: right;\n",
       "    }\n",
       "</style>\n",
       "<table border=\"1\" class=\"dataframe\">\n",
       "  <thead>\n",
       "    <tr style=\"text-align: right;\">\n",
       "      <th></th>\n",
       "      <th>Category</th>\n",
       "      <th>Message</th>\n",
       "    </tr>\n",
       "  </thead>\n",
       "  <tbody>\n",
       "    <tr>\n",
       "      <th>0</th>\n",
       "      <td>ham</td>\n",
       "      <td>Go until jurong point, crazy.. Available only ...</td>\n",
       "    </tr>\n",
       "    <tr>\n",
       "      <th>1</th>\n",
       "      <td>ham</td>\n",
       "      <td>Ok lar... Joking wif u oni...</td>\n",
       "    </tr>\n",
       "    <tr>\n",
       "      <th>2</th>\n",
       "      <td>spam</td>\n",
       "      <td>Free entry in 2 a wkly comp to win FA Cup fina...</td>\n",
       "    </tr>\n",
       "    <tr>\n",
       "      <th>3</th>\n",
       "      <td>ham</td>\n",
       "      <td>U dun say so early hor... U c already then say...</td>\n",
       "    </tr>\n",
       "    <tr>\n",
       "      <th>4</th>\n",
       "      <td>ham</td>\n",
       "      <td>Nah I don't think he goes to usf, he lives aro...</td>\n",
       "    </tr>\n",
       "  </tbody>\n",
       "</table>\n",
       "</div>"
      ]
     },
     "execution_count": 28,
     "metadata": {},
     "output_type": "execute_result"
    }
   ],
   "execution_count": 28
  },
  {
   "metadata": {
    "ExecuteTime": {
     "end_time": "2025-09-24T13:37:43.999983Z",
     "start_time": "2025-09-24T13:37:43.995837Z"
    }
   },
   "cell_type": "code",
   "source": [
    "label = df['Category'].map({'ham': 0, 'spam': 1})\n",
    "data = df['Message']"
   ],
   "id": "6b8d53c1917d5343",
   "outputs": [],
   "execution_count": 29
  },
  {
   "metadata": {
    "ExecuteTime": {
     "end_time": "2025-09-24T13:37:44.055920Z",
     "start_time": "2025-09-24T13:37:44.050241Z"
    }
   },
   "cell_type": "code",
   "source": "x_train, x_test, y_train, y_test = train_test_split(data, label, test_size=0.2, random_state=42)",
   "id": "ba0f95437eedb761",
   "outputs": [],
   "execution_count": 30
  },
  {
   "metadata": {
    "ExecuteTime": {
     "end_time": "2025-09-24T13:37:44.222831Z",
     "start_time": "2025-09-24T13:37:44.089549Z"
    }
   },
   "cell_type": "code",
   "source": [
    "cvec = CountVectorizer()\n",
    "x_train_count = cvec.fit_transform(x_train.values).toarray()\n",
    "x_test_count = cvec.transform(x_test.values).toarray()"
   ],
   "id": "d2ff4867b5f31b29",
   "outputs": [],
   "execution_count": 31
  },
  {
   "metadata": {
    "ExecuteTime": {
     "end_time": "2025-09-24T13:37:45.034182Z",
     "start_time": "2025-09-24T13:37:44.237037Z"
    }
   },
   "cell_type": "code",
   "source": [
    "gnb = GaussianNB()\n",
    "gnb.fit(x_train_count, y_train)\n",
    "y_pred = gnb.predict(x_test_count)\n",
    "g_accuracy = accuracy_score(y_test, y_pred)\n",
    "print(f'Gaussian Naive Bayes Accuracy: {g_accuracy}')"
   ],
   "id": "9f49f6e307f3cd4",
   "outputs": [
    {
     "name": "stdout",
     "output_type": "stream",
     "text": [
      "Gaussian Naive Bayes Accuracy: 0.9067264573991032\n"
     ]
    }
   ],
   "execution_count": 32
  },
  {
   "metadata": {
    "ExecuteTime": {
     "end_time": "2025-09-24T13:37:45.710938Z",
     "start_time": "2025-09-24T13:37:45.166918Z"
    }
   },
   "cell_type": "code",
   "source": [
    "mnb = MultinomialNB()\n",
    "mnb.fit(x_train_count, y_train)\n",
    "y_pred = mnb.predict(x_test_count)\n",
    "m_accuracy = accuracy_score(y_test, y_pred)\n",
    "print(f'Multinomial Naive Bayes Accuracy: {m_accuracy}')"
   ],
   "id": "69aa89a735daec72",
   "outputs": [
    {
     "name": "stdout",
     "output_type": "stream",
     "text": [
      "Multinomial Naive Bayes Accuracy: 0.9919282511210762\n"
     ]
    }
   ],
   "execution_count": 33
  },
  {
   "metadata": {
    "ExecuteTime": {
     "end_time": "2025-09-24T13:39:41.671695Z",
     "start_time": "2025-09-24T13:39:41.663481Z"
    }
   },
   "cell_type": "code",
   "source": [
    "emails = ['Hey Ata! Can you send me the homework details for the Internet Engineering course?',\n",
    "          'UP TO 40% DISCOUNT! Hurry and get our product for the lowest price of $20!']\n",
    "\n",
    "emails_count = cvec.transform(emails)\n",
    "mnb.predict(emails_count)"
   ],
   "id": "705d7e8461f89a3a",
   "outputs": [
    {
     "data": {
      "text/plain": [
       "array([0, 1])"
      ]
     },
     "execution_count": 34,
     "metadata": {},
     "output_type": "execute_result"
    }
   ],
   "execution_count": 34
  },
  {
   "metadata": {},
   "cell_type": "code",
   "outputs": [],
   "execution_count": null,
   "source": "",
   "id": "257ef1ee3dd7c54b"
  }
 ],
 "metadata": {
  "kernelspec": {
   "display_name": "Python 3",
   "language": "python",
   "name": "python3"
  },
  "language_info": {
   "codemirror_mode": {
    "name": "ipython",
    "version": 2
   },
   "file_extension": ".py",
   "mimetype": "text/x-python",
   "name": "python",
   "nbconvert_exporter": "python",
   "pygments_lexer": "ipython2",
   "version": "2.7.6"
  }
 },
 "nbformat": 4,
 "nbformat_minor": 5
}
