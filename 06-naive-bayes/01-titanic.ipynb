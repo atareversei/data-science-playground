{
 "cells": [
  {
   "metadata": {},
   "cell_type": "markdown",
   "source": [
    "# Naive Bayes Classifier from Scratch – Titanic Survival Prediction\n",
    "\n",
    "This notebook implements a **Naive Bayes classifier from scratch** using NumPy to predict whether a passenger survived the Titanic disaster. The aim is to understand the fundamental principles of probabilistic classification, including likelihood estimation and applying Bayes' theorem step by step.\n",
    "\n",
    "**Key Steps:**\n",
    "\n",
    "1. Loading the data and performing exploratory data analysis (EDA)\n",
    "2. Data preprocessing (handling categorical and numeric features, cleaning missing data)\n",
    "3. Calculating class prior probabilities (Survived vs. Not Survived)\n",
    "4. Evaluating performance using accuracy\n",
    "\n",
    "**Goal:**\n",
    "To build a simple yet powerful probabilistic model and gain an intuitive understanding of how Naive Bayes works under the hood, applied to a real-world dataset.\n"
   ],
   "id": "ba21abebb3c33749"
  },
  {
   "metadata": {
    "ExecuteTime": {
     "end_time": "2025-09-23T10:28:44.502761Z",
     "start_time": "2025-09-23T10:28:44.486221Z"
    }
   },
   "cell_type": "code",
   "source": [
    "import pandas as pd\n",
    "import seaborn as sns\n",
    "from sklearn.model_selection import train_test_split\n",
    "from sklearn.naive_bayes import GaussianNB\n",
    "from sklearn.model_selection import GridSearchCV\n",
    "\n",
    "df = sns.load_dataset('titanic')\n",
    "df.info()"
   ],
   "id": "48c5680d8152b230",
   "outputs": [
    {
     "name": "stdout",
     "output_type": "stream",
     "text": [
      "<class 'pandas.core.frame.DataFrame'>\n",
      "RangeIndex: 891 entries, 0 to 890\n",
      "Data columns (total 15 columns):\n",
      " #   Column       Non-Null Count  Dtype   \n",
      "---  ------       --------------  -----   \n",
      " 0   survived     891 non-null    int64   \n",
      " 1   pclass       891 non-null    int64   \n",
      " 2   sex          891 non-null    object  \n",
      " 3   age          714 non-null    float64 \n",
      " 4   sibsp        891 non-null    int64   \n",
      " 5   parch        891 non-null    int64   \n",
      " 6   fare         891 non-null    float64 \n",
      " 7   embarked     889 non-null    object  \n",
      " 8   class        891 non-null    category\n",
      " 9   who          891 non-null    object  \n",
      " 10  adult_male   891 non-null    bool    \n",
      " 11  deck         203 non-null    category\n",
      " 12  embark_town  889 non-null    object  \n",
      " 13  alive        891 non-null    object  \n",
      " 14  alone        891 non-null    bool    \n",
      "dtypes: bool(2), category(2), float64(2), int64(4), object(5)\n",
      "memory usage: 80.7+ KB\n"
     ]
    }
   ],
   "execution_count": 68
  },
  {
   "metadata": {
    "ExecuteTime": {
     "end_time": "2025-09-23T10:28:44.555192Z",
     "start_time": "2025-09-23T10:28:44.542416Z"
    }
   },
   "cell_type": "code",
   "source": "df.head()",
   "id": "37c70c5e592eae9f",
   "outputs": [
    {
     "data": {
      "text/plain": [
       "   survived  pclass     sex   age  sibsp  parch     fare embarked  class  \\\n",
       "0         0       3    male  22.0      1      0   7.2500        S  Third   \n",
       "1         1       1  female  38.0      1      0  71.2833        C  First   \n",
       "2         1       3  female  26.0      0      0   7.9250        S  Third   \n",
       "3         1       1  female  35.0      1      0  53.1000        S  First   \n",
       "4         0       3    male  35.0      0      0   8.0500        S  Third   \n",
       "\n",
       "     who  adult_male deck  embark_town alive  alone  \n",
       "0    man        True  NaN  Southampton    no  False  \n",
       "1  woman       False    C    Cherbourg   yes  False  \n",
       "2  woman       False  NaN  Southampton   yes   True  \n",
       "3  woman       False    C  Southampton   yes  False  \n",
       "4    man        True  NaN  Southampton    no   True  "
      ],
      "text/html": [
       "<div>\n",
       "<style scoped>\n",
       "    .dataframe tbody tr th:only-of-type {\n",
       "        vertical-align: middle;\n",
       "    }\n",
       "\n",
       "    .dataframe tbody tr th {\n",
       "        vertical-align: top;\n",
       "    }\n",
       "\n",
       "    .dataframe thead th {\n",
       "        text-align: right;\n",
       "    }\n",
       "</style>\n",
       "<table border=\"1\" class=\"dataframe\">\n",
       "  <thead>\n",
       "    <tr style=\"text-align: right;\">\n",
       "      <th></th>\n",
       "      <th>survived</th>\n",
       "      <th>pclass</th>\n",
       "      <th>sex</th>\n",
       "      <th>age</th>\n",
       "      <th>sibsp</th>\n",
       "      <th>parch</th>\n",
       "      <th>fare</th>\n",
       "      <th>embarked</th>\n",
       "      <th>class</th>\n",
       "      <th>who</th>\n",
       "      <th>adult_male</th>\n",
       "      <th>deck</th>\n",
       "      <th>embark_town</th>\n",
       "      <th>alive</th>\n",
       "      <th>alone</th>\n",
       "    </tr>\n",
       "  </thead>\n",
       "  <tbody>\n",
       "    <tr>\n",
       "      <th>0</th>\n",
       "      <td>0</td>\n",
       "      <td>3</td>\n",
       "      <td>male</td>\n",
       "      <td>22.0</td>\n",
       "      <td>1</td>\n",
       "      <td>0</td>\n",
       "      <td>7.2500</td>\n",
       "      <td>S</td>\n",
       "      <td>Third</td>\n",
       "      <td>man</td>\n",
       "      <td>True</td>\n",
       "      <td>NaN</td>\n",
       "      <td>Southampton</td>\n",
       "      <td>no</td>\n",
       "      <td>False</td>\n",
       "    </tr>\n",
       "    <tr>\n",
       "      <th>1</th>\n",
       "      <td>1</td>\n",
       "      <td>1</td>\n",
       "      <td>female</td>\n",
       "      <td>38.0</td>\n",
       "      <td>1</td>\n",
       "      <td>0</td>\n",
       "      <td>71.2833</td>\n",
       "      <td>C</td>\n",
       "      <td>First</td>\n",
       "      <td>woman</td>\n",
       "      <td>False</td>\n",
       "      <td>C</td>\n",
       "      <td>Cherbourg</td>\n",
       "      <td>yes</td>\n",
       "      <td>False</td>\n",
       "    </tr>\n",
       "    <tr>\n",
       "      <th>2</th>\n",
       "      <td>1</td>\n",
       "      <td>3</td>\n",
       "      <td>female</td>\n",
       "      <td>26.0</td>\n",
       "      <td>0</td>\n",
       "      <td>0</td>\n",
       "      <td>7.9250</td>\n",
       "      <td>S</td>\n",
       "      <td>Third</td>\n",
       "      <td>woman</td>\n",
       "      <td>False</td>\n",
       "      <td>NaN</td>\n",
       "      <td>Southampton</td>\n",
       "      <td>yes</td>\n",
       "      <td>True</td>\n",
       "    </tr>\n",
       "    <tr>\n",
       "      <th>3</th>\n",
       "      <td>1</td>\n",
       "      <td>1</td>\n",
       "      <td>female</td>\n",
       "      <td>35.0</td>\n",
       "      <td>1</td>\n",
       "      <td>0</td>\n",
       "      <td>53.1000</td>\n",
       "      <td>S</td>\n",
       "      <td>First</td>\n",
       "      <td>woman</td>\n",
       "      <td>False</td>\n",
       "      <td>C</td>\n",
       "      <td>Southampton</td>\n",
       "      <td>yes</td>\n",
       "      <td>False</td>\n",
       "    </tr>\n",
       "    <tr>\n",
       "      <th>4</th>\n",
       "      <td>0</td>\n",
       "      <td>3</td>\n",
       "      <td>male</td>\n",
       "      <td>35.0</td>\n",
       "      <td>0</td>\n",
       "      <td>0</td>\n",
       "      <td>8.0500</td>\n",
       "      <td>S</td>\n",
       "      <td>Third</td>\n",
       "      <td>man</td>\n",
       "      <td>True</td>\n",
       "      <td>NaN</td>\n",
       "      <td>Southampton</td>\n",
       "      <td>no</td>\n",
       "      <td>True</td>\n",
       "    </tr>\n",
       "  </tbody>\n",
       "</table>\n",
       "</div>"
      ]
     },
     "execution_count": 69,
     "metadata": {},
     "output_type": "execute_result"
    }
   ],
   "execution_count": 69
  },
  {
   "metadata": {
    "ExecuteTime": {
     "end_time": "2025-09-23T10:28:44.620029Z",
     "start_time": "2025-09-23T10:28:44.611287Z"
    }
   },
   "cell_type": "code",
   "source": "df.isnull().sum()",
   "id": "cf4223f1816aafb8",
   "outputs": [
    {
     "data": {
      "text/plain": [
       "survived         0\n",
       "pclass           0\n",
       "sex              0\n",
       "age            177\n",
       "sibsp            0\n",
       "parch            0\n",
       "fare             0\n",
       "embarked         2\n",
       "class            0\n",
       "who              0\n",
       "adult_male       0\n",
       "deck           688\n",
       "embark_town      2\n",
       "alive            0\n",
       "alone            0\n",
       "dtype: int64"
      ]
     },
     "execution_count": 70,
     "metadata": {},
     "output_type": "execute_result"
    }
   ],
   "execution_count": 70
  },
  {
   "metadata": {
    "ExecuteTime": {
     "end_time": "2025-09-23T10:28:44.723190Z",
     "start_time": "2025-09-23T10:28:44.715499Z"
    }
   },
   "cell_type": "code",
   "source": [
    "df['age'] = df['age'].fillna(df['age'].mean())\n",
    "df['embarked'] = df['embarked'].fillna(df['embarked'].mode()[0])\n",
    "# dropping the columns that either have too many missing values (e.g. deck) or that are \n",
    "# correlated with other columns (e.g. alive)\n",
    "df = df.drop(['alive', 'deck', 'adult_male', 'who', 'class', 'embarked'], axis=1)\n",
    "df.shape"
   ],
   "id": "8cd2198dcf2395c6",
   "outputs": [
    {
     "data": {
      "text/plain": [
       "(891, 9)"
      ]
     },
     "execution_count": 71,
     "metadata": {},
     "output_type": "execute_result"
    }
   ],
   "execution_count": 71
  },
  {
   "metadata": {
    "ExecuteTime": {
     "end_time": "2025-09-23T10:28:44.886724Z",
     "start_time": "2025-09-23T10:28:44.881946Z"
    }
   },
   "cell_type": "code",
   "source": "df['embark_town'].unique()",
   "id": "ce2312218561b2b6",
   "outputs": [
    {
     "data": {
      "text/plain": [
       "array(['Southampton', 'Cherbourg', 'Queenstown', nan], dtype=object)"
      ]
     },
     "execution_count": 72,
     "metadata": {},
     "output_type": "execute_result"
    }
   ],
   "execution_count": 72
  },
  {
   "metadata": {
    "ExecuteTime": {
     "end_time": "2025-09-23T10:28:44.981340Z",
     "start_time": "2025-09-23T10:28:44.973248Z"
    }
   },
   "cell_type": "code",
   "source": [
    "# we need to convert categorical columns to numerical ones (`sex` and `embarked_town`)\n",
    "df = pd.get_dummies(df)\n",
    "# `get_dummies` creates correlated columns that we have to drop. For example, having both\n",
    "# columns of male and female is redundant, because male being 0 is indicative of female \n",
    "# being 1.\n",
    "df = df.drop(['sex_female', 'embark_town_Cherbourg'], axis=1)"
   ],
   "id": "f604d93b552198c6",
   "outputs": [],
   "execution_count": 73
  },
  {
   "metadata": {
    "ExecuteTime": {
     "end_time": "2025-09-23T10:28:45.021740Z",
     "start_time": "2025-09-23T10:28:45.017668Z"
    }
   },
   "cell_type": "code",
   "source": [
    "label = df['survived']\n",
    "data = df.drop(['survived'], axis=1)"
   ],
   "id": "e3e316f08686cdde",
   "outputs": [],
   "execution_count": 74
  },
  {
   "metadata": {
    "ExecuteTime": {
     "end_time": "2025-09-23T10:28:45.066977Z",
     "start_time": "2025-09-23T10:28:45.061280Z"
    }
   },
   "cell_type": "code",
   "source": "x_train, x_test, y_train, y_test = train_test_split(data, label, test_size=0.25, random_state=42)",
   "id": "e62fd6fe5964fa53",
   "outputs": [],
   "execution_count": 75
  },
  {
   "metadata": {
    "ExecuteTime": {
     "end_time": "2025-09-23T10:28:45.237602Z",
     "start_time": "2025-09-23T10:28:45.084238Z"
    }
   },
   "cell_type": "code",
   "source": [
    "# in this set of operations we are trying to find out which value for `var_smoothing` yields\n",
    "# the best answer using grid search\n",
    "param_grid = {'var_smoothing': [1e-9, 1e-8, 1e-7, 1e-6, 1e-5, 1e-4, 1e-3, 1e-2, 1e-1]}\n",
    "gnb_grid = GaussianNB()\n",
    "clf = GridSearchCV(gnb_grid, param_grid, cv=5)\n",
    "clf.fit(x_train, y_train)\n",
    "clf.best_params_"
   ],
   "id": "c73b1a0295d374ca",
   "outputs": [
    {
     "data": {
      "text/plain": [
       "{'var_smoothing': 1e-05}"
      ]
     },
     "execution_count": 76,
     "metadata": {},
     "output_type": "execute_result"
    }
   ],
   "execution_count": 76
  },
  {
   "metadata": {
    "ExecuteTime": {
     "end_time": "2025-09-23T10:28:45.327338Z",
     "start_time": "2025-09-23T10:28:45.317526Z"
    }
   },
   "cell_type": "code",
   "source": [
    "gnb = GaussianNB(var_smoothing=1e-5)\n",
    "gnb.fit(x_train, y_train)\n",
    "gnb_score = gnb.score(x_test, y_test)"
   ],
   "id": "7782781da632f3cc",
   "outputs": [],
   "execution_count": 77
  },
  {
   "metadata": {
    "ExecuteTime": {
     "end_time": "2025-09-23T10:28:45.414035Z",
     "start_time": "2025-09-23T10:28:45.351329Z"
    }
   },
   "cell_type": "code",
   "source": [
    "from sklearn.linear_model import LogisticRegression\n",
    "lr = LogisticRegression(max_iter=250)\n",
    "lr.fit(x_train, y_train)\n",
    "lr_score = lr.score(x_test, y_test)"
   ],
   "id": "f0fd2a46bf1ec2ec",
   "outputs": [],
   "execution_count": 78
  },
  {
   "metadata": {
    "ExecuteTime": {
     "end_time": "2025-09-23T10:28:45.448559Z",
     "start_time": "2025-09-23T10:28:45.435271Z"
    }
   },
   "cell_type": "code",
   "source": [
    "from sklearn.neighbors import KNeighborsClassifier\n",
    "knn = KNeighborsClassifier()\n",
    "knn.fit(x_train, y_train)\n",
    "knn_score = knn.score(x_test, y_test)"
   ],
   "id": "e6791fcf8ea26f82",
   "outputs": [],
   "execution_count": 79
  },
  {
   "metadata": {
    "ExecuteTime": {
     "end_time": "2025-09-23T10:28:45.476631Z",
     "start_time": "2025-09-23T10:28:45.470105Z"
    }
   },
   "cell_type": "code",
   "source": "print(\"Gaussian Naive Bayes Accuracy:\", gnb_score, \"\\nLogistic Regression Accuracy:\", lr_score, \"\\nKNN Accuracy:\", knn_score)",
   "id": "ee60a95384aea4f8",
   "outputs": [
    {
     "name": "stdout",
     "output_type": "stream",
     "text": [
      "Gaussian Naive Bayes Accuracy: 0.7937219730941704 \n",
      "Logistic Regression Accuracy: 0.7982062780269058 \n",
      "KNN Accuracy: 0.7040358744394619\n"
     ]
    }
   ],
   "execution_count": 80
  }
 ],
 "metadata": {
  "kernelspec": {
   "display_name": "Python 3",
   "language": "python",
   "name": "python3"
  },
  "language_info": {
   "codemirror_mode": {
    "name": "ipython",
    "version": 2
   },
   "file_extension": ".py",
   "mimetype": "text/x-python",
   "name": "python",
   "nbconvert_exporter": "python",
   "pygments_lexer": "ipython2",
   "version": "2.7.6"
  }
 },
 "nbformat": 4,
 "nbformat_minor": 5
}
