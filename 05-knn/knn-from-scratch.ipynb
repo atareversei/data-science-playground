{
 "cells": [
  {
   "metadata": {},
   "cell_type": "markdown",
   "source": [
    "# K-Nearest Neighbors (KNN) from Scratch\n",
    "\n",
    "This notebook implements a K-Nearest Neighbors (KNN) classifier from scratch using NumPy. The goal is to demystify the underlying mechanics of the algorithm, including distance calculation and neighbor selection.\n",
    "\n",
    "**Key Steps:**\n",
    "1. Euclidean distance calculation\n",
    "2. Finding k-nearest neighbors\n",
    "3. Evaluation on a sample dataset"
   ],
   "id": "c58af61074e36687"
  },
  {
   "cell_type": "code",
   "id": "initial_id",
   "metadata": {
    "collapsed": true,
    "ExecuteTime": {
     "end_time": "2025-08-24T11:07:48.958060Z",
     "start_time": "2025-08-24T11:07:48.953810Z"
    }
   },
   "source": [
    "import numpy as np\n",
    "from sklearn.datasets import load_iris\n",
    "from sklearn.model_selection import train_test_split\n",
    "from sklearn.metrics import classification_report\n",
    "from scipy.stats import mode"
   ],
   "outputs": [],
   "execution_count": 19
  },
  {
   "metadata": {
    "ExecuteTime": {
     "end_time": "2025-08-24T09:56:22.954692Z",
     "start_time": "2025-08-24T09:56:22.949986Z"
    }
   },
   "cell_type": "code",
   "source": "df = load_iris()",
   "id": "e320f9437909248a",
   "outputs": [],
   "execution_count": 9
  },
  {
   "metadata": {
    "ExecuteTime": {
     "end_time": "2025-08-24T09:56:23.824049Z",
     "start_time": "2025-08-24T09:56:23.819236Z"
    }
   },
   "cell_type": "code",
   "source": [
    "x = df.data\n",
    "y = df.target\n",
    "x_train, x_test, y_train, y_test = train_test_split(x, y, test_size=0.2, random_state=42)"
   ],
   "id": "e6ed7616fb205fb",
   "outputs": [],
   "execution_count": 10
  },
  {
   "metadata": {
    "ExecuteTime": {
     "end_time": "2025-08-24T11:07:05.668932Z",
     "start_time": "2025-08-24T11:07:05.664997Z"
    }
   },
   "cell_type": "code",
   "source": [
    "def KNN(x_train, y_train, x_test, k=1):\n",
    "    dist = np.linalg.norm(x_train - x_test, ord=2, axis=1)\n",
    "    sorted_arg_dist = np.argsort(dist)\n",
    "    y_nn = y_train[sorted_arg_dist[:k]]\n",
    "    return mode(y_nn)[0]"
   ],
   "id": "4c9e501f5672a236",
   "outputs": [],
   "execution_count": 17
  },
  {
   "metadata": {
    "ExecuteTime": {
     "end_time": "2025-08-24T11:07:07.121718Z",
     "start_time": "2025-08-24T11:07:07.109595Z"
    }
   },
   "cell_type": "code",
   "source": [
    "y_pred = np.zeros(len(x_test))\n",
    "for i in range(len(x_test)):\n",
    "    y_pred[i] = KNN(x_train, y_train, x_test[i])"
   ],
   "id": "e3a4e2cf8b92c5bd",
   "outputs": [],
   "execution_count": 18
  },
  {
   "metadata": {
    "ExecuteTime": {
     "end_time": "2025-08-24T11:08:00.597288Z",
     "start_time": "2025-08-24T11:08:00.578791Z"
    }
   },
   "cell_type": "code",
   "source": "print(classification_report(y_test, y_pred))",
   "id": "ea6c6a6027a3eef4",
   "outputs": [
    {
     "name": "stdout",
     "output_type": "stream",
     "text": [
      "              precision    recall  f1-score   support\n",
      "\n",
      "           0       1.00      1.00      1.00        10\n",
      "           1       1.00      1.00      1.00         9\n",
      "           2       1.00      1.00      1.00        11\n",
      "\n",
      "    accuracy                           1.00        30\n",
      "   macro avg       1.00      1.00      1.00        30\n",
      "weighted avg       1.00      1.00      1.00        30\n",
      "\n"
     ]
    }
   ],
   "execution_count": 20
  },
  {
   "metadata": {},
   "cell_type": "code",
   "outputs": [],
   "execution_count": null,
   "source": "",
   "id": "6902ed0ccca6661b"
  }
 ],
 "metadata": {
  "kernelspec": {
   "display_name": "Python 3",
   "language": "python",
   "name": "python3"
  },
  "language_info": {
   "codemirror_mode": {
    "name": "ipython",
    "version": 2
   },
   "file_extension": ".py",
   "mimetype": "text/x-python",
   "name": "python",
   "nbconvert_exporter": "python",
   "pygments_lexer": "ipython2",
   "version": "2.7.6"
  }
 },
 "nbformat": 4,
 "nbformat_minor": 5
}
